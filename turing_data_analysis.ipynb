{
  "nbformat": 4,
  "nbformat_minor": 0,
  "metadata": {
    "colab": {
      "provenance": [],
      "authorship_tag": "ABX9TyP/atLlhIjw8THT2+TPmkZY",
      "include_colab_link": true
    },
    "kernelspec": {
      "name": "python3",
      "display_name": "Python 3"
    },
    "language_info": {
      "name": "python"
    }
  },
  "cells": [
    {
      "cell_type": "markdown",
      "metadata": {
        "id": "view-in-github",
        "colab_type": "text"
      },
      "source": [
        "<a href=\"https://colab.research.google.com/github/khan022/turing_exams/blob/main/turing_data_analysis.ipynb\" target=\"_parent\"><img src=\"https://colab.research.google.com/assets/colab-badge.svg\" alt=\"Open In Colab\"/></a>"
      ]
    },
    {
      "cell_type": "code",
      "execution_count": null,
      "metadata": {
        "id": "_mUGvkv_Mo5B"
      },
      "outputs": [],
      "source": [
        "import pandas as pd\n",
        "import numpy as np\n",
        "data = pd.read_csv('./data/cardio_base.csv')"
      ]
    },
    {
      "cell_type": "code",
      "source": [
        "grouped_data = data.groupby('age')['weight'].mean()\n",
        "max_avg_weight = grouped_data.max()\n",
        "min_avg_weight = grouped_data.min()\n",
        "difference = max_avg_weight - min_avg_weight"
      ],
      "metadata": {
        "id": "opLqtBpaOZdD"
      },
      "execution_count": null,
      "outputs": []
    },
    {
      "cell_type": "code",
      "source": [
        "difference/min_avg_weight"
      ],
      "metadata": {
        "colab": {
          "base_uri": "https://localhost:8080/"
        },
        "id": "51dBuBdqPO5t",
        "outputId": "b0ac289e-131c-4523-8ab8-6a86053a0fd1"
      },
      "execution_count": null,
      "outputs": [
        {
          "output_type": "execute_result",
          "data": {
            "text/plain": [
              "14.0"
            ]
          },
          "metadata": {},
          "execution_count": 8
        }
      ]
    },
    {
      "cell_type": "code",
      "source": [
        "data['age_years'] = np.floor(data['age'] / 365)"
      ],
      "metadata": {
        "id": "c98Ew48hPPrX"
      },
      "execution_count": null,
      "outputs": []
    },
    {
      "cell_type": "code",
      "source": [
        "grouped_data = data.groupby('age_years')['weight'].mean()\n",
        "max_avg_weight = grouped_data.max()\n",
        "min_avg_weight = grouped_data.min()\n",
        "difference = max_avg_weight - min_avg_weight"
      ],
      "metadata": {
        "id": "IaI9of6HPwPB"
      },
      "execution_count": null,
      "outputs": []
    },
    {
      "cell_type": "code",
      "source": [
        "difference/min_avg_weight*100"
      ],
      "metadata": {
        "colab": {
          "base_uri": "https://localhost:8080/"
        },
        "id": "fRc9upvoP4AT",
        "outputId": "8602bad4-e4f2-4580-f1da-785780a0eb83"
      },
      "execution_count": null,
      "outputs": [
        {
          "output_type": "execute_result",
          "data": {
            "text/plain": [
              "28.599526712260886"
            ]
          },
          "metadata": {},
          "execution_count": 13
        }
      ]
    },
    {
      "cell_type": "code",
      "source": [
        "data['cholesterol'].max()"
      ],
      "metadata": {
        "colab": {
          "base_uri": "https://localhost:8080/"
        },
        "id": "pQ2dgW1hP5G1",
        "outputId": "5e2e8386-b2a8-4fc5-e3f5-829ba269dba1"
      },
      "execution_count": null,
      "outputs": [
        {
          "output_type": "execute_result",
          "data": {
            "text/plain": [
              "3"
            ]
          },
          "metadata": {},
          "execution_count": 15
        }
      ]
    },
    {
      "cell_type": "code",
      "source": [
        "high_cholesterol = data[(data['age_years'] > 50) & (data['cholesterol'] >= 3)]\n",
        "count = len(high_cholesterol)"
      ],
      "metadata": {
        "id": "y1jWz2X7Qy8o"
      },
      "execution_count": null,
      "outputs": []
    },
    {
      "cell_type": "code",
      "source": [
        "count"
      ],
      "metadata": {
        "colab": {
          "base_uri": "https://localhost:8080/"
        },
        "id": "dxBB6AXuRBBw",
        "outputId": "9e8861d0-b537-49ee-e4cb-0f9f1a0da68b"
      },
      "execution_count": null,
      "outputs": [
        {
          "output_type": "execute_result",
          "data": {
            "text/plain": [
              "6586"
            ]
          },
          "metadata": {},
          "execution_count": 22
        }
      ]
    },
    {
      "cell_type": "code",
      "source": [
        "len(data[data['age_years'] > 50.0])"
      ],
      "metadata": {
        "colab": {
          "base_uri": "https://localhost:8080/"
        },
        "id": "c8-dH_WGRCLd",
        "outputId": "03378a28-f593-4feb-92df-79e0457a4b2b"
      },
      "execution_count": null,
      "outputs": [
        {
          "output_type": "execute_result",
          "data": {
            "text/plain": [
              "45375"
            ]
          },
          "metadata": {},
          "execution_count": 31
        }
      ]
    },
    {
      "cell_type": "code",
      "source": [
        "len(data[data['age_years'] < 50.0])"
      ],
      "metadata": {
        "colab": {
          "base_uri": "https://localhost:8080/"
        },
        "id": "b8XonUacRLGD",
        "outputId": "5a5dd0ac-ebd8-4ec3-906f-25fdb7688411"
      },
      "execution_count": null,
      "outputs": [
        {
          "output_type": "execute_result",
          "data": {
            "text/plain": [
              "21409"
            ]
          },
          "metadata": {},
          "execution_count": 33
        }
      ]
    },
    {
      "cell_type": "code",
      "source": [
        "high_cholesterol = data[(data['age_years'] < 50) & (data['cholesterol'] >= 3)]\n",
        "len(high_cholesterol)"
      ],
      "metadata": {
        "colab": {
          "base_uri": "https://localhost:8080/"
        },
        "id": "_sPn_H1ARRYB",
        "outputId": "3a09f629-e74a-42fe-a7fe-775f1b96d2cb"
      },
      "execution_count": null,
      "outputs": [
        {
          "output_type": "execute_result",
          "data": {
            "text/plain": [
              "1242"
            ]
          },
          "metadata": {},
          "execution_count": 32
        }
      ]
    },
    {
      "cell_type": "code",
      "source": [
        "6586/45375"
      ],
      "metadata": {
        "colab": {
          "base_uri": "https://localhost:8080/"
        },
        "id": "TXHQSK76RcRU",
        "outputId": "a6bfac5b-9558-44d0-e3c8-53a9ff372250"
      },
      "execution_count": null,
      "outputs": [
        {
          "output_type": "execute_result",
          "data": {
            "text/plain": [
              "0.14514600550964188"
            ]
          },
          "metadata": {},
          "execution_count": 34
        }
      ]
    },
    {
      "cell_type": "code",
      "source": [
        "1242/21409"
      ],
      "metadata": {
        "colab": {
          "base_uri": "https://localhost:8080/"
        },
        "id": "RhL5IGh4SGvl",
        "outputId": "e37f0528-a498-4977-f69d-881ab047fd98"
      },
      "execution_count": null,
      "outputs": [
        {
          "output_type": "execute_result",
          "data": {
            "text/plain": [
              "0.058012985193143074"
            ]
          },
          "metadata": {},
          "execution_count": 35
        }
      ]
    },
    {
      "cell_type": "code",
      "source": [
        "high_cholesterol = data[(data['cholesterol'] == 2)]\n",
        "len(high_cholesterol)"
      ],
      "metadata": {
        "colab": {
          "base_uri": "https://localhost:8080/"
        },
        "id": "EAId0me0SK0t",
        "outputId": "59c71468-0040-440e-b774-271f1e69cc77"
      },
      "execution_count": null,
      "outputs": [
        {
          "output_type": "execute_result",
          "data": {
            "text/plain": [
              "9549"
            ]
          },
          "metadata": {},
          "execution_count": 36
        }
      ]
    },
    {
      "cell_type": "code",
      "source": [
        "9549/70000"
      ],
      "metadata": {
        "colab": {
          "base_uri": "https://localhost:8080/"
        },
        "id": "B2IyUC4NSY6P",
        "outputId": "7b3d35e2-5a22-4fc4-9f38-6d528f10a5e1"
      },
      "execution_count": null,
      "outputs": [
        {
          "output_type": "execute_result",
          "data": {
            "text/plain": [
              "0.1364142857142857"
            ]
          },
          "metadata": {},
          "execution_count": 37
        }
      ]
    },
    {
      "cell_type": "code",
      "source": [
        ".14-.06"
      ],
      "metadata": {
        "colab": {
          "base_uri": "https://localhost:8080/"
        },
        "id": "swLFEAWiScxb",
        "outputId": "cca079dd-d2c8-47e6-be4f-a4ab8cc25052"
      },
      "execution_count": null,
      "outputs": [
        {
          "output_type": "execute_result",
          "data": {
            "text/plain": [
              "0.08000000000000002"
            ]
          },
          "metadata": {},
          "execution_count": 38
        }
      ]
    },
    {
      "cell_type": "code",
      "source": [
        "smoker = data[(data['gender'] == 1) & (data['smoke'] == 1)]\n",
        "len(smoker)"
      ],
      "metadata": {
        "colab": {
          "base_uri": "https://localhost:8080/"
        },
        "id": "ZAuZchbDSnxj",
        "outputId": "97edd51c-5917-4f71-c2e2-0517ad0c0d00"
      },
      "execution_count": null,
      "outputs": [
        {
          "output_type": "execute_result",
          "data": {
            "text/plain": [
              "813"
            ]
          },
          "metadata": {},
          "execution_count": 41
        }
      ]
    },
    {
      "cell_type": "code",
      "source": [
        "smoker = data[(data['gender'] == 2) & (data['smoke'] == 1)]\n",
        "len(smoker)"
      ],
      "metadata": {
        "colab": {
          "base_uri": "https://localhost:8080/"
        },
        "id": "thhqwXHPTO2V",
        "outputId": "6e6fe19e-28e9-4351-e182-4b63752e1a84"
      },
      "execution_count": null,
      "outputs": [
        {
          "output_type": "execute_result",
          "data": {
            "text/plain": [
              "5356"
            ]
          },
          "metadata": {},
          "execution_count": 42
        }
      ]
    },
    {
      "cell_type": "code",
      "source": [
        "len(data[(data['gender'] == 1)])"
      ],
      "metadata": {
        "colab": {
          "base_uri": "https://localhost:8080/"
        },
        "id": "exsS8GFKTUJm",
        "outputId": "7b2465d8-29fc-47c1-db6d-7b0ea3e0956a"
      },
      "execution_count": null,
      "outputs": [
        {
          "output_type": "execute_result",
          "data": {
            "text/plain": [
              "45530"
            ]
          },
          "metadata": {},
          "execution_count": 44
        }
      ]
    },
    {
      "cell_type": "code",
      "source": [
        "len(data[(data['gender'] == 2)])"
      ],
      "metadata": {
        "colab": {
          "base_uri": "https://localhost:8080/"
        },
        "id": "AH5OkNaKTsgd",
        "outputId": "c9f5e87e-9954-4dcb-c33a-2af4a3cf8bd7"
      },
      "execution_count": null,
      "outputs": [
        {
          "output_type": "execute_result",
          "data": {
            "text/plain": [
              "24470"
            ]
          },
          "metadata": {},
          "execution_count": 45
        }
      ]
    },
    {
      "cell_type": "code",
      "source": [
        "813/45530*100"
      ],
      "metadata": {
        "colab": {
          "base_uri": "https://localhost:8080/"
        },
        "id": "abWa_xZyTw9x",
        "outputId": "23f6e5d4-4858-4b8d-a0d4-893017d2e81f"
      },
      "execution_count": null,
      "outputs": [
        {
          "output_type": "execute_result",
          "data": {
            "text/plain": [
              "1.7856358444981333"
            ]
          },
          "metadata": {},
          "execution_count": 49
        }
      ]
    },
    {
      "cell_type": "code",
      "source": [
        "5356/24470*100"
      ],
      "metadata": {
        "colab": {
          "base_uri": "https://localhost:8080/"
        },
        "id": "dEqD9LFyUBec",
        "outputId": "8583974e-f58e-463b-ce26-6448f2ea3b80"
      },
      "execution_count": null,
      "outputs": [
        {
          "output_type": "execute_result",
          "data": {
            "text/plain": [
              "21.88802615447487"
            ]
          },
          "metadata": {},
          "execution_count": 48
        }
      ]
    },
    {
      "cell_type": "code",
      "source": [
        "threshold = data['height'].quantile(0.99)\n",
        "threshold"
      ],
      "metadata": {
        "colab": {
          "base_uri": "https://localhost:8080/"
        },
        "id": "hygjSZJUUDYD",
        "outputId": "71570ffa-59c7-470b-9dc5-bb1e62661add"
      },
      "execution_count": null,
      "outputs": [
        {
          "output_type": "execute_result",
          "data": {
            "text/plain": [
              "184.0"
            ]
          },
          "metadata": {},
          "execution_count": 50
        }
      ]
    },
    {
      "cell_type": "code",
      "source": [
        "correlations = data.corr(method='spearman')\n",
        "highest_corr = correlations.unstack().sort_values(ascending=False).drop_duplicates()\n",
        "highest_pair = highest_corr.index[1]"
      ],
      "metadata": {
        "id": "ZJqQIea5VH8Z"
      },
      "execution_count": null,
      "outputs": []
    },
    {
      "cell_type": "code",
      "source": [
        "highest_pair"
      ],
      "metadata": {
        "colab": {
          "base_uri": "https://localhost:8080/"
        },
        "id": "KGh7uFa2VokP",
        "outputId": "695a7816-d2b6-4df1-de69-e7930ad5f4f3"
      },
      "execution_count": null,
      "outputs": [
        {
          "output_type": "execute_result",
          "data": {
            "text/plain": [
              "('ap_lo', 'ap_hi')"
            ]
          },
          "metadata": {},
          "execution_count": 58
        }
      ]
    },
    {
      "cell_type": "code",
      "source": [
        "data = data.drop(['age'], axis=1)"
      ],
      "metadata": {
        "id": "cu47UXseVqw5"
      },
      "execution_count": null,
      "outputs": []
    },
    {
      "cell_type": "code",
      "source": [
        "avg_height = data['height'].mean()\n",
        "std_height = data['height'].std()\n",
        "outliers = data[(data['height'] > avg_height + 2 * std_height) | (data['height'] < avg_height - 2 * std_height)]\n",
        "count = len(outliers)\n",
        "percentage = count / len(data) * 100"
      ],
      "metadata": {
        "id": "xYIKWc-jV-7h"
      },
      "execution_count": null,
      "outputs": []
    },
    {
      "cell_type": "code",
      "source": [
        "percentage"
      ],
      "metadata": {
        "colab": {
          "base_uri": "https://localhost:8080/"
        },
        "id": "nJkCj6oIWd24",
        "outputId": "304e725d-d6e7-4b16-d4ca-8228ab247506"
      },
      "execution_count": null,
      "outputs": [
        {
          "output_type": "execute_result",
          "data": {
            "text/plain": [
              "3.3357142857142854"
            ]
          },
          "metadata": {},
          "execution_count": 60
        }
      ]
    },
    {
      "cell_type": "code",
      "source": [
        "data2 = pd.read_csv('./data/cardio_alco.csv')\n",
        "data2.head"
      ],
      "metadata": {
        "colab": {
          "base_uri": "https://localhost:8080/"
        },
        "id": "bi0KXSFSWen7",
        "outputId": "ccafcb41-747b-4991-fc44-2297ecb26749"
      },
      "execution_count": null,
      "outputs": [
        {
          "output_type": "execute_result",
          "data": {
            "text/plain": [
              "<bound method NDFrame.head of        id;alco\n",
              "0         44;0\n",
              "1         45;0\n",
              "2         46;0\n",
              "3         47;0\n",
              "4         49;0\n",
              "...        ...\n",
              "56898  99949;0\n",
              "56899  99950;0\n",
              "56900  99951;0\n",
              "56901  99952;0\n",
              "56902  99954;0\n",
              "\n",
              "[56903 rows x 1 columns]>"
            ]
          },
          "metadata": {},
          "execution_count": 81
        }
      ]
    },
    {
      "cell_type": "code",
      "source": [
        "data2 = data2['id;alco'].str.split(';')"
      ],
      "metadata": {
        "id": "MHaQGbq8Wvg5"
      },
      "execution_count": null,
      "outputs": []
    },
    {
      "cell_type": "code",
      "source": [
        "data2"
      ],
      "metadata": {
        "colab": {
          "base_uri": "https://localhost:8080/"
        },
        "id": "eAehnpJ-XWMK",
        "outputId": "faccb25c-d13c-40d1-9f26-c2a871c36acd"
      },
      "execution_count": null,
      "outputs": [
        {
          "output_type": "execute_result",
          "data": {
            "text/plain": [
              "0           [44, 0]\n",
              "1           [45, 0]\n",
              "2           [46, 0]\n",
              "3           [47, 0]\n",
              "4           [49, 0]\n",
              "            ...    \n",
              "56898    [99949, 0]\n",
              "56899    [99950, 0]\n",
              "56900    [99951, 0]\n",
              "56901    [99952, 0]\n",
              "56902    [99954, 0]\n",
              "Name: id;alco, Length: 56903, dtype: object"
            ]
          },
          "metadata": {},
          "execution_count": 74
        }
      ]
    },
    {
      "cell_type": "code",
      "source": [
        "expanded_data = data2.apply(pd.Series)"
      ],
      "metadata": {
        "id": "9PzJODsrXX_B"
      },
      "execution_count": null,
      "outputs": []
    },
    {
      "cell_type": "code",
      "source": [
        "expanded_data.columns = ['id', 'alco']"
      ],
      "metadata": {
        "id": "VkOwKRMjXvzd"
      },
      "execution_count": null,
      "outputs": []
    },
    {
      "cell_type": "code",
      "source": [
        "expanded_data"
      ],
      "metadata": {
        "colab": {
          "base_uri": "https://localhost:8080/",
          "height": 424
        },
        "id": "ZIQ3-ZD-ZNVK",
        "outputId": "99c217cd-bd87-4500-93c5-a3b825e34e87"
      },
      "execution_count": null,
      "outputs": [
        {
          "output_type": "execute_result",
          "data": {
            "text/plain": [
              "          id alco\n",
              "0         44    0\n",
              "1         45    0\n",
              "2         46    0\n",
              "3         47    0\n",
              "4         49    0\n",
              "...      ...  ...\n",
              "56898  99949    0\n",
              "56899  99950    0\n",
              "56900  99951    0\n",
              "56901  99952    0\n",
              "56902  99954    0\n",
              "\n",
              "[56903 rows x 2 columns]"
            ],
            "text/html": [
              "\n",
              "  <div id=\"df-0577200e-00e3-4f98-87a0-9baeb6ffbcfa\">\n",
              "    <div class=\"colab-df-container\">\n",
              "      <div>\n",
              "<style scoped>\n",
              "    .dataframe tbody tr th:only-of-type {\n",
              "        vertical-align: middle;\n",
              "    }\n",
              "\n",
              "    .dataframe tbody tr th {\n",
              "        vertical-align: top;\n",
              "    }\n",
              "\n",
              "    .dataframe thead th {\n",
              "        text-align: right;\n",
              "    }\n",
              "</style>\n",
              "<table border=\"1\" class=\"dataframe\">\n",
              "  <thead>\n",
              "    <tr style=\"text-align: right;\">\n",
              "      <th></th>\n",
              "      <th>id</th>\n",
              "      <th>alco</th>\n",
              "    </tr>\n",
              "  </thead>\n",
              "  <tbody>\n",
              "    <tr>\n",
              "      <th>0</th>\n",
              "      <td>44</td>\n",
              "      <td>0</td>\n",
              "    </tr>\n",
              "    <tr>\n",
              "      <th>1</th>\n",
              "      <td>45</td>\n",
              "      <td>0</td>\n",
              "    </tr>\n",
              "    <tr>\n",
              "      <th>2</th>\n",
              "      <td>46</td>\n",
              "      <td>0</td>\n",
              "    </tr>\n",
              "    <tr>\n",
              "      <th>3</th>\n",
              "      <td>47</td>\n",
              "      <td>0</td>\n",
              "    </tr>\n",
              "    <tr>\n",
              "      <th>4</th>\n",
              "      <td>49</td>\n",
              "      <td>0</td>\n",
              "    </tr>\n",
              "    <tr>\n",
              "      <th>...</th>\n",
              "      <td>...</td>\n",
              "      <td>...</td>\n",
              "    </tr>\n",
              "    <tr>\n",
              "      <th>56898</th>\n",
              "      <td>99949</td>\n",
              "      <td>0</td>\n",
              "    </tr>\n",
              "    <tr>\n",
              "      <th>56899</th>\n",
              "      <td>99950</td>\n",
              "      <td>0</td>\n",
              "    </tr>\n",
              "    <tr>\n",
              "      <th>56900</th>\n",
              "      <td>99951</td>\n",
              "      <td>0</td>\n",
              "    </tr>\n",
              "    <tr>\n",
              "      <th>56901</th>\n",
              "      <td>99952</td>\n",
              "      <td>0</td>\n",
              "    </tr>\n",
              "    <tr>\n",
              "      <th>56902</th>\n",
              "      <td>99954</td>\n",
              "      <td>0</td>\n",
              "    </tr>\n",
              "  </tbody>\n",
              "</table>\n",
              "<p>56903 rows × 2 columns</p>\n",
              "</div>\n",
              "      <button class=\"colab-df-convert\" onclick=\"convertToInteractive('df-0577200e-00e3-4f98-87a0-9baeb6ffbcfa')\"\n",
              "              title=\"Convert this dataframe to an interactive table.\"\n",
              "              style=\"display:none;\">\n",
              "        \n",
              "  <svg xmlns=\"http://www.w3.org/2000/svg\" height=\"24px\"viewBox=\"0 0 24 24\"\n",
              "       width=\"24px\">\n",
              "    <path d=\"M0 0h24v24H0V0z\" fill=\"none\"/>\n",
              "    <path d=\"M18.56 5.44l.94 2.06.94-2.06 2.06-.94-2.06-.94-.94-2.06-.94 2.06-2.06.94zm-11 1L8.5 8.5l.94-2.06 2.06-.94-2.06-.94L8.5 2.5l-.94 2.06-2.06.94zm10 10l.94 2.06.94-2.06 2.06-.94-2.06-.94-.94-2.06-.94 2.06-2.06.94z\"/><path d=\"M17.41 7.96l-1.37-1.37c-.4-.4-.92-.59-1.43-.59-.52 0-1.04.2-1.43.59L10.3 9.45l-7.72 7.72c-.78.78-.78 2.05 0 2.83L4 21.41c.39.39.9.59 1.41.59.51 0 1.02-.2 1.41-.59l7.78-7.78 2.81-2.81c.8-.78.8-2.07 0-2.86zM5.41 20L4 18.59l7.72-7.72 1.47 1.35L5.41 20z\"/>\n",
              "  </svg>\n",
              "      </button>\n",
              "      \n",
              "  <style>\n",
              "    .colab-df-container {\n",
              "      display:flex;\n",
              "      flex-wrap:wrap;\n",
              "      gap: 12px;\n",
              "    }\n",
              "\n",
              "    .colab-df-convert {\n",
              "      background-color: #E8F0FE;\n",
              "      border: none;\n",
              "      border-radius: 50%;\n",
              "      cursor: pointer;\n",
              "      display: none;\n",
              "      fill: #1967D2;\n",
              "      height: 32px;\n",
              "      padding: 0 0 0 0;\n",
              "      width: 32px;\n",
              "    }\n",
              "\n",
              "    .colab-df-convert:hover {\n",
              "      background-color: #E2EBFA;\n",
              "      box-shadow: 0px 1px 2px rgba(60, 64, 67, 0.3), 0px 1px 3px 1px rgba(60, 64, 67, 0.15);\n",
              "      fill: #174EA6;\n",
              "    }\n",
              "\n",
              "    [theme=dark] .colab-df-convert {\n",
              "      background-color: #3B4455;\n",
              "      fill: #D2E3FC;\n",
              "    }\n",
              "\n",
              "    [theme=dark] .colab-df-convert:hover {\n",
              "      background-color: #434B5C;\n",
              "      box-shadow: 0px 1px 3px 1px rgba(0, 0, 0, 0.15);\n",
              "      filter: drop-shadow(0px 1px 2px rgba(0, 0, 0, 0.3));\n",
              "      fill: #FFFFFF;\n",
              "    }\n",
              "  </style>\n",
              "\n",
              "      <script>\n",
              "        const buttonEl =\n",
              "          document.querySelector('#df-0577200e-00e3-4f98-87a0-9baeb6ffbcfa button.colab-df-convert');\n",
              "        buttonEl.style.display =\n",
              "          google.colab.kernel.accessAllowed ? 'block' : 'none';\n",
              "\n",
              "        async function convertToInteractive(key) {\n",
              "          const element = document.querySelector('#df-0577200e-00e3-4f98-87a0-9baeb6ffbcfa');\n",
              "          const dataTable =\n",
              "            await google.colab.kernel.invokeFunction('convertToInteractive',\n",
              "                                                     [key], {});\n",
              "          if (!dataTable) return;\n",
              "\n",
              "          const docLinkHtml = 'Like what you see? Visit the ' +\n",
              "            '<a target=\"_blank\" href=https://colab.research.google.com/notebooks/data_table.ipynb>data table notebook</a>'\n",
              "            + ' to learn more about interactive tables.';\n",
              "          element.innerHTML = '';\n",
              "          dataTable['output_type'] = 'display_data';\n",
              "          await google.colab.output.renderOutput(dataTable, element);\n",
              "          const docLink = document.createElement('div');\n",
              "          docLink.innerHTML = docLinkHtml;\n",
              "          element.appendChild(docLink);\n",
              "        }\n",
              "      </script>\n",
              "    </div>\n",
              "  </div>\n",
              "  "
            ]
          },
          "metadata": {},
          "execution_count": 116
        }
      ]
    },
    {
      "cell_type": "code",
      "source": [
        "data"
      ],
      "metadata": {
        "colab": {
          "base_uri": "https://localhost:8080/",
          "height": 424
        },
        "id": "eHYhFnG_ZqfZ",
        "outputId": "bf88a3a0-88ee-4af3-c8c6-471df9970d06"
      },
      "execution_count": null,
      "outputs": [
        {
          "output_type": "execute_result",
          "data": {
            "text/plain": [
              "          id  gender  height  weight  ap_hi  ap_lo  cholesterol  smoke  \\\n",
              "0          0       2     168    62.0    110     80            1      0   \n",
              "1          1       1     156    85.0    140     90            3      0   \n",
              "2          2       1     165    64.0    130     70            3      0   \n",
              "3          3       2     169    82.0    150    100            1      0   \n",
              "4          4       1     156    56.0    100     60            1      0   \n",
              "...      ...     ...     ...     ...    ...    ...          ...    ...   \n",
              "69995  99993       2     168    76.0    120     80            1      1   \n",
              "69996  99995       1     158   126.0    140     90            2      0   \n",
              "69997  99996       2     183   105.0    180     90            3      0   \n",
              "69998  99998       1     163    72.0    135     80            1      0   \n",
              "69999  99999       1     170    72.0    120     80            2      0   \n",
              "\n",
              "       age_years  \n",
              "0           50.0  \n",
              "1           55.0  \n",
              "2           51.0  \n",
              "3           48.0  \n",
              "4           47.0  \n",
              "...          ...  \n",
              "69995       52.0  \n",
              "69996       61.0  \n",
              "69997       52.0  \n",
              "69998       61.0  \n",
              "69999       56.0  \n",
              "\n",
              "[70000 rows x 9 columns]"
            ],
            "text/html": [
              "\n",
              "  <div id=\"df-930c49d8-eb69-4898-bf38-8e164f8613df\">\n",
              "    <div class=\"colab-df-container\">\n",
              "      <div>\n",
              "<style scoped>\n",
              "    .dataframe tbody tr th:only-of-type {\n",
              "        vertical-align: middle;\n",
              "    }\n",
              "\n",
              "    .dataframe tbody tr th {\n",
              "        vertical-align: top;\n",
              "    }\n",
              "\n",
              "    .dataframe thead th {\n",
              "        text-align: right;\n",
              "    }\n",
              "</style>\n",
              "<table border=\"1\" class=\"dataframe\">\n",
              "  <thead>\n",
              "    <tr style=\"text-align: right;\">\n",
              "      <th></th>\n",
              "      <th>id</th>\n",
              "      <th>gender</th>\n",
              "      <th>height</th>\n",
              "      <th>weight</th>\n",
              "      <th>ap_hi</th>\n",
              "      <th>ap_lo</th>\n",
              "      <th>cholesterol</th>\n",
              "      <th>smoke</th>\n",
              "      <th>age_years</th>\n",
              "    </tr>\n",
              "  </thead>\n",
              "  <tbody>\n",
              "    <tr>\n",
              "      <th>0</th>\n",
              "      <td>0</td>\n",
              "      <td>2</td>\n",
              "      <td>168</td>\n",
              "      <td>62.0</td>\n",
              "      <td>110</td>\n",
              "      <td>80</td>\n",
              "      <td>1</td>\n",
              "      <td>0</td>\n",
              "      <td>50.0</td>\n",
              "    </tr>\n",
              "    <tr>\n",
              "      <th>1</th>\n",
              "      <td>1</td>\n",
              "      <td>1</td>\n",
              "      <td>156</td>\n",
              "      <td>85.0</td>\n",
              "      <td>140</td>\n",
              "      <td>90</td>\n",
              "      <td>3</td>\n",
              "      <td>0</td>\n",
              "      <td>55.0</td>\n",
              "    </tr>\n",
              "    <tr>\n",
              "      <th>2</th>\n",
              "      <td>2</td>\n",
              "      <td>1</td>\n",
              "      <td>165</td>\n",
              "      <td>64.0</td>\n",
              "      <td>130</td>\n",
              "      <td>70</td>\n",
              "      <td>3</td>\n",
              "      <td>0</td>\n",
              "      <td>51.0</td>\n",
              "    </tr>\n",
              "    <tr>\n",
              "      <th>3</th>\n",
              "      <td>3</td>\n",
              "      <td>2</td>\n",
              "      <td>169</td>\n",
              "      <td>82.0</td>\n",
              "      <td>150</td>\n",
              "      <td>100</td>\n",
              "      <td>1</td>\n",
              "      <td>0</td>\n",
              "      <td>48.0</td>\n",
              "    </tr>\n",
              "    <tr>\n",
              "      <th>4</th>\n",
              "      <td>4</td>\n",
              "      <td>1</td>\n",
              "      <td>156</td>\n",
              "      <td>56.0</td>\n",
              "      <td>100</td>\n",
              "      <td>60</td>\n",
              "      <td>1</td>\n",
              "      <td>0</td>\n",
              "      <td>47.0</td>\n",
              "    </tr>\n",
              "    <tr>\n",
              "      <th>...</th>\n",
              "      <td>...</td>\n",
              "      <td>...</td>\n",
              "      <td>...</td>\n",
              "      <td>...</td>\n",
              "      <td>...</td>\n",
              "      <td>...</td>\n",
              "      <td>...</td>\n",
              "      <td>...</td>\n",
              "      <td>...</td>\n",
              "    </tr>\n",
              "    <tr>\n",
              "      <th>69995</th>\n",
              "      <td>99993</td>\n",
              "      <td>2</td>\n",
              "      <td>168</td>\n",
              "      <td>76.0</td>\n",
              "      <td>120</td>\n",
              "      <td>80</td>\n",
              "      <td>1</td>\n",
              "      <td>1</td>\n",
              "      <td>52.0</td>\n",
              "    </tr>\n",
              "    <tr>\n",
              "      <th>69996</th>\n",
              "      <td>99995</td>\n",
              "      <td>1</td>\n",
              "      <td>158</td>\n",
              "      <td>126.0</td>\n",
              "      <td>140</td>\n",
              "      <td>90</td>\n",
              "      <td>2</td>\n",
              "      <td>0</td>\n",
              "      <td>61.0</td>\n",
              "    </tr>\n",
              "    <tr>\n",
              "      <th>69997</th>\n",
              "      <td>99996</td>\n",
              "      <td>2</td>\n",
              "      <td>183</td>\n",
              "      <td>105.0</td>\n",
              "      <td>180</td>\n",
              "      <td>90</td>\n",
              "      <td>3</td>\n",
              "      <td>0</td>\n",
              "      <td>52.0</td>\n",
              "    </tr>\n",
              "    <tr>\n",
              "      <th>69998</th>\n",
              "      <td>99998</td>\n",
              "      <td>1</td>\n",
              "      <td>163</td>\n",
              "      <td>72.0</td>\n",
              "      <td>135</td>\n",
              "      <td>80</td>\n",
              "      <td>1</td>\n",
              "      <td>0</td>\n",
              "      <td>61.0</td>\n",
              "    </tr>\n",
              "    <tr>\n",
              "      <th>69999</th>\n",
              "      <td>99999</td>\n",
              "      <td>1</td>\n",
              "      <td>170</td>\n",
              "      <td>72.0</td>\n",
              "      <td>120</td>\n",
              "      <td>80</td>\n",
              "      <td>2</td>\n",
              "      <td>0</td>\n",
              "      <td>56.0</td>\n",
              "    </tr>\n",
              "  </tbody>\n",
              "</table>\n",
              "<p>70000 rows × 9 columns</p>\n",
              "</div>\n",
              "      <button class=\"colab-df-convert\" onclick=\"convertToInteractive('df-930c49d8-eb69-4898-bf38-8e164f8613df')\"\n",
              "              title=\"Convert this dataframe to an interactive table.\"\n",
              "              style=\"display:none;\">\n",
              "        \n",
              "  <svg xmlns=\"http://www.w3.org/2000/svg\" height=\"24px\"viewBox=\"0 0 24 24\"\n",
              "       width=\"24px\">\n",
              "    <path d=\"M0 0h24v24H0V0z\" fill=\"none\"/>\n",
              "    <path d=\"M18.56 5.44l.94 2.06.94-2.06 2.06-.94-2.06-.94-.94-2.06-.94 2.06-2.06.94zm-11 1L8.5 8.5l.94-2.06 2.06-.94-2.06-.94L8.5 2.5l-.94 2.06-2.06.94zm10 10l.94 2.06.94-2.06 2.06-.94-2.06-.94-.94-2.06-.94 2.06-2.06.94z\"/><path d=\"M17.41 7.96l-1.37-1.37c-.4-.4-.92-.59-1.43-.59-.52 0-1.04.2-1.43.59L10.3 9.45l-7.72 7.72c-.78.78-.78 2.05 0 2.83L4 21.41c.39.39.9.59 1.41.59.51 0 1.02-.2 1.41-.59l7.78-7.78 2.81-2.81c.8-.78.8-2.07 0-2.86zM5.41 20L4 18.59l7.72-7.72 1.47 1.35L5.41 20z\"/>\n",
              "  </svg>\n",
              "      </button>\n",
              "      \n",
              "  <style>\n",
              "    .colab-df-container {\n",
              "      display:flex;\n",
              "      flex-wrap:wrap;\n",
              "      gap: 12px;\n",
              "    }\n",
              "\n",
              "    .colab-df-convert {\n",
              "      background-color: #E8F0FE;\n",
              "      border: none;\n",
              "      border-radius: 50%;\n",
              "      cursor: pointer;\n",
              "      display: none;\n",
              "      fill: #1967D2;\n",
              "      height: 32px;\n",
              "      padding: 0 0 0 0;\n",
              "      width: 32px;\n",
              "    }\n",
              "\n",
              "    .colab-df-convert:hover {\n",
              "      background-color: #E2EBFA;\n",
              "      box-shadow: 0px 1px 2px rgba(60, 64, 67, 0.3), 0px 1px 3px 1px rgba(60, 64, 67, 0.15);\n",
              "      fill: #174EA6;\n",
              "    }\n",
              "\n",
              "    [theme=dark] .colab-df-convert {\n",
              "      background-color: #3B4455;\n",
              "      fill: #D2E3FC;\n",
              "    }\n",
              "\n",
              "    [theme=dark] .colab-df-convert:hover {\n",
              "      background-color: #434B5C;\n",
              "      box-shadow: 0px 1px 3px 1px rgba(0, 0, 0, 0.15);\n",
              "      filter: drop-shadow(0px 1px 2px rgba(0, 0, 0, 0.3));\n",
              "      fill: #FFFFFF;\n",
              "    }\n",
              "  </style>\n",
              "\n",
              "      <script>\n",
              "        const buttonEl =\n",
              "          document.querySelector('#df-930c49d8-eb69-4898-bf38-8e164f8613df button.colab-df-convert');\n",
              "        buttonEl.style.display =\n",
              "          google.colab.kernel.accessAllowed ? 'block' : 'none';\n",
              "\n",
              "        async function convertToInteractive(key) {\n",
              "          const element = document.querySelector('#df-930c49d8-eb69-4898-bf38-8e164f8613df');\n",
              "          const dataTable =\n",
              "            await google.colab.kernel.invokeFunction('convertToInteractive',\n",
              "                                                     [key], {});\n",
              "          if (!dataTable) return;\n",
              "\n",
              "          const docLinkHtml = 'Like what you see? Visit the ' +\n",
              "            '<a target=\"_blank\" href=https://colab.research.google.com/notebooks/data_table.ipynb>data table notebook</a>'\n",
              "            + ' to learn more about interactive tables.';\n",
              "          element.innerHTML = '';\n",
              "          dataTable['output_type'] = 'display_data';\n",
              "          await google.colab.output.renderOutput(dataTable, element);\n",
              "          const docLink = document.createElement('div');\n",
              "          docLink.innerHTML = docLinkHtml;\n",
              "          element.appendChild(docLink);\n",
              "        }\n",
              "      </script>\n",
              "    </div>\n",
              "  </div>\n",
              "  "
            ]
          },
          "metadata": {},
          "execution_count": 117
        }
      ]
    },
    {
      "cell_type": "code",
      "source": [
        "data.dtypes"
      ],
      "metadata": {
        "colab": {
          "base_uri": "https://localhost:8080/"
        },
        "id": "tnHFNfSsZxyx",
        "outputId": "2c0f0cd4-a10f-4476-964a-27a047e95982"
      },
      "execution_count": null,
      "outputs": [
        {
          "output_type": "execute_result",
          "data": {
            "text/plain": [
              "id               int64\n",
              "gender           int64\n",
              "height           int64\n",
              "weight         float64\n",
              "ap_hi            int64\n",
              "ap_lo            int64\n",
              "cholesterol      int64\n",
              "smoke            int64\n",
              "age_years      float64\n",
              "dtype: object"
            ]
          },
          "metadata": {},
          "execution_count": 118
        }
      ]
    },
    {
      "cell_type": "code",
      "source": [
        "expanded_data.dtypes"
      ],
      "metadata": {
        "colab": {
          "base_uri": "https://localhost:8080/"
        },
        "id": "qMDcpmleaYW_",
        "outputId": "24e0eff4-39ca-4118-a18f-3d33ec218dc2"
      },
      "execution_count": null,
      "outputs": [
        {
          "output_type": "execute_result",
          "data": {
            "text/plain": [
              "id      int64\n",
              "alco    int64\n",
              "dtype: object"
            ]
          },
          "metadata": {},
          "execution_count": 121
        }
      ]
    },
    {
      "cell_type": "code",
      "source": [
        "expanded_data['id'] = expanded_data['id'].astype(str).astype(int)\n",
        "expanded_data['alco'] = expanded_data['alco'].astype(str).astype(int)"
      ],
      "metadata": {
        "id": "XMug-qFfabsh"
      },
      "execution_count": null,
      "outputs": []
    },
    {
      "cell_type": "code",
      "source": [
        "expanded_data"
      ],
      "metadata": {
        "colab": {
          "base_uri": "https://localhost:8080/",
          "height": 424
        },
        "id": "wE3bJm3canvL",
        "outputId": "0cf06f3f-24bf-4061-8e8a-8ac2f0f4c5aa"
      },
      "execution_count": null,
      "outputs": [
        {
          "output_type": "execute_result",
          "data": {
            "text/plain": [
              "          id  alco\n",
              "0         44     0\n",
              "1         45     0\n",
              "2         46     0\n",
              "3         47     0\n",
              "4         49     0\n",
              "...      ...   ...\n",
              "56898  99949     0\n",
              "56899  99950     0\n",
              "56900  99951     0\n",
              "56901  99952     0\n",
              "56902  99954     0\n",
              "\n",
              "[56903 rows x 2 columns]"
            ],
            "text/html": [
              "\n",
              "  <div id=\"df-cf6d49c8-b4d8-46a0-90a8-7a05ccc9d70d\">\n",
              "    <div class=\"colab-df-container\">\n",
              "      <div>\n",
              "<style scoped>\n",
              "    .dataframe tbody tr th:only-of-type {\n",
              "        vertical-align: middle;\n",
              "    }\n",
              "\n",
              "    .dataframe tbody tr th {\n",
              "        vertical-align: top;\n",
              "    }\n",
              "\n",
              "    .dataframe thead th {\n",
              "        text-align: right;\n",
              "    }\n",
              "</style>\n",
              "<table border=\"1\" class=\"dataframe\">\n",
              "  <thead>\n",
              "    <tr style=\"text-align: right;\">\n",
              "      <th></th>\n",
              "      <th>id</th>\n",
              "      <th>alco</th>\n",
              "    </tr>\n",
              "  </thead>\n",
              "  <tbody>\n",
              "    <tr>\n",
              "      <th>0</th>\n",
              "      <td>44</td>\n",
              "      <td>0</td>\n",
              "    </tr>\n",
              "    <tr>\n",
              "      <th>1</th>\n",
              "      <td>45</td>\n",
              "      <td>0</td>\n",
              "    </tr>\n",
              "    <tr>\n",
              "      <th>2</th>\n",
              "      <td>46</td>\n",
              "      <td>0</td>\n",
              "    </tr>\n",
              "    <tr>\n",
              "      <th>3</th>\n",
              "      <td>47</td>\n",
              "      <td>0</td>\n",
              "    </tr>\n",
              "    <tr>\n",
              "      <th>4</th>\n",
              "      <td>49</td>\n",
              "      <td>0</td>\n",
              "    </tr>\n",
              "    <tr>\n",
              "      <th>...</th>\n",
              "      <td>...</td>\n",
              "      <td>...</td>\n",
              "    </tr>\n",
              "    <tr>\n",
              "      <th>56898</th>\n",
              "      <td>99949</td>\n",
              "      <td>0</td>\n",
              "    </tr>\n",
              "    <tr>\n",
              "      <th>56899</th>\n",
              "      <td>99950</td>\n",
              "      <td>0</td>\n",
              "    </tr>\n",
              "    <tr>\n",
              "      <th>56900</th>\n",
              "      <td>99951</td>\n",
              "      <td>0</td>\n",
              "    </tr>\n",
              "    <tr>\n",
              "      <th>56901</th>\n",
              "      <td>99952</td>\n",
              "      <td>0</td>\n",
              "    </tr>\n",
              "    <tr>\n",
              "      <th>56902</th>\n",
              "      <td>99954</td>\n",
              "      <td>0</td>\n",
              "    </tr>\n",
              "  </tbody>\n",
              "</table>\n",
              "<p>56903 rows × 2 columns</p>\n",
              "</div>\n",
              "      <button class=\"colab-df-convert\" onclick=\"convertToInteractive('df-cf6d49c8-b4d8-46a0-90a8-7a05ccc9d70d')\"\n",
              "              title=\"Convert this dataframe to an interactive table.\"\n",
              "              style=\"display:none;\">\n",
              "        \n",
              "  <svg xmlns=\"http://www.w3.org/2000/svg\" height=\"24px\"viewBox=\"0 0 24 24\"\n",
              "       width=\"24px\">\n",
              "    <path d=\"M0 0h24v24H0V0z\" fill=\"none\"/>\n",
              "    <path d=\"M18.56 5.44l.94 2.06.94-2.06 2.06-.94-2.06-.94-.94-2.06-.94 2.06-2.06.94zm-11 1L8.5 8.5l.94-2.06 2.06-.94-2.06-.94L8.5 2.5l-.94 2.06-2.06.94zm10 10l.94 2.06.94-2.06 2.06-.94-2.06-.94-.94-2.06-.94 2.06-2.06.94z\"/><path d=\"M17.41 7.96l-1.37-1.37c-.4-.4-.92-.59-1.43-.59-.52 0-1.04.2-1.43.59L10.3 9.45l-7.72 7.72c-.78.78-.78 2.05 0 2.83L4 21.41c.39.39.9.59 1.41.59.51 0 1.02-.2 1.41-.59l7.78-7.78 2.81-2.81c.8-.78.8-2.07 0-2.86zM5.41 20L4 18.59l7.72-7.72 1.47 1.35L5.41 20z\"/>\n",
              "  </svg>\n",
              "      </button>\n",
              "      \n",
              "  <style>\n",
              "    .colab-df-container {\n",
              "      display:flex;\n",
              "      flex-wrap:wrap;\n",
              "      gap: 12px;\n",
              "    }\n",
              "\n",
              "    .colab-df-convert {\n",
              "      background-color: #E8F0FE;\n",
              "      border: none;\n",
              "      border-radius: 50%;\n",
              "      cursor: pointer;\n",
              "      display: none;\n",
              "      fill: #1967D2;\n",
              "      height: 32px;\n",
              "      padding: 0 0 0 0;\n",
              "      width: 32px;\n",
              "    }\n",
              "\n",
              "    .colab-df-convert:hover {\n",
              "      background-color: #E2EBFA;\n",
              "      box-shadow: 0px 1px 2px rgba(60, 64, 67, 0.3), 0px 1px 3px 1px rgba(60, 64, 67, 0.15);\n",
              "      fill: #174EA6;\n",
              "    }\n",
              "\n",
              "    [theme=dark] .colab-df-convert {\n",
              "      background-color: #3B4455;\n",
              "      fill: #D2E3FC;\n",
              "    }\n",
              "\n",
              "    [theme=dark] .colab-df-convert:hover {\n",
              "      background-color: #434B5C;\n",
              "      box-shadow: 0px 1px 3px 1px rgba(0, 0, 0, 0.15);\n",
              "      filter: drop-shadow(0px 1px 2px rgba(0, 0, 0, 0.3));\n",
              "      fill: #FFFFFF;\n",
              "    }\n",
              "  </style>\n",
              "\n",
              "      <script>\n",
              "        const buttonEl =\n",
              "          document.querySelector('#df-cf6d49c8-b4d8-46a0-90a8-7a05ccc9d70d button.colab-df-convert');\n",
              "        buttonEl.style.display =\n",
              "          google.colab.kernel.accessAllowed ? 'block' : 'none';\n",
              "\n",
              "        async function convertToInteractive(key) {\n",
              "          const element = document.querySelector('#df-cf6d49c8-b4d8-46a0-90a8-7a05ccc9d70d');\n",
              "          const dataTable =\n",
              "            await google.colab.kernel.invokeFunction('convertToInteractive',\n",
              "                                                     [key], {});\n",
              "          if (!dataTable) return;\n",
              "\n",
              "          const docLinkHtml = 'Like what you see? Visit the ' +\n",
              "            '<a target=\"_blank\" href=https://colab.research.google.com/notebooks/data_table.ipynb>data table notebook</a>'\n",
              "            + ' to learn more about interactive tables.';\n",
              "          element.innerHTML = '';\n",
              "          dataTable['output_type'] = 'display_data';\n",
              "          await google.colab.output.renderOutput(dataTable, element);\n",
              "          const docLink = document.createElement('div');\n",
              "          docLink.innerHTML = docLinkHtml;\n",
              "          element.appendChild(docLink);\n",
              "        }\n",
              "      </script>\n",
              "    </div>\n",
              "  </div>\n",
              "  "
            ]
          },
          "metadata": {},
          "execution_count": 122
        }
      ]
    },
    {
      "cell_type": "code",
      "source": [
        "merged_data = pd.merge(data, expanded_data, left_on='id', right_on='id')"
      ],
      "metadata": {
        "id": "mV7UB50Da-lP"
      },
      "execution_count": null,
      "outputs": []
    },
    {
      "cell_type": "code",
      "source": [
        "merged_data"
      ],
      "metadata": {
        "colab": {
          "base_uri": "https://localhost:8080/",
          "height": 424
        },
        "id": "5CAla0XUbX5O",
        "outputId": "6cb81a58-7b11-45f3-c7a5-9ea7ef3e7896"
      },
      "execution_count": null,
      "outputs": [
        {
          "output_type": "execute_result",
          "data": {
            "text/plain": [
              "          id  gender  height  weight  ap_hi  ap_lo  cholesterol  smoke  \\\n",
              "0         44       1     159    60.0    110     70            1      0   \n",
              "1         45       1     160    73.0    130     85            1      0   \n",
              "2         46       2     173    82.0    140     90            3      0   \n",
              "3         47       1     163    55.0    120     80            1      0   \n",
              "4         49       2     175    95.0    120     80            1      0   \n",
              "...      ...     ...     ...     ...    ...    ...          ...    ...   \n",
              "56898  99949       1     178    69.0    130     90            1      0   \n",
              "56899  99950       2     155    76.0    130     90            1      0   \n",
              "56900  99951       2     170    72.0    120     80            1      0   \n",
              "56901  99952       2     165    66.0    120     80            1      0   \n",
              "56902  99954       1     156    67.0    140     80            2      0   \n",
              "\n",
              "       age_years  alco  \n",
              "0           40.0     0  \n",
              "1           56.0     0  \n",
              "2           60.0     0  \n",
              "3           55.0     0  \n",
              "4           50.0     0  \n",
              "...          ...   ...  \n",
              "56898       57.0     0  \n",
              "56899       53.0     0  \n",
              "56900       61.0     0  \n",
              "56901       42.0     0  \n",
              "56902       55.0     0  \n",
              "\n",
              "[56903 rows x 10 columns]"
            ],
            "text/html": [
              "\n",
              "  <div id=\"df-5169fc99-5907-49ce-9466-de9507a9764d\">\n",
              "    <div class=\"colab-df-container\">\n",
              "      <div>\n",
              "<style scoped>\n",
              "    .dataframe tbody tr th:only-of-type {\n",
              "        vertical-align: middle;\n",
              "    }\n",
              "\n",
              "    .dataframe tbody tr th {\n",
              "        vertical-align: top;\n",
              "    }\n",
              "\n",
              "    .dataframe thead th {\n",
              "        text-align: right;\n",
              "    }\n",
              "</style>\n",
              "<table border=\"1\" class=\"dataframe\">\n",
              "  <thead>\n",
              "    <tr style=\"text-align: right;\">\n",
              "      <th></th>\n",
              "      <th>id</th>\n",
              "      <th>gender</th>\n",
              "      <th>height</th>\n",
              "      <th>weight</th>\n",
              "      <th>ap_hi</th>\n",
              "      <th>ap_lo</th>\n",
              "      <th>cholesterol</th>\n",
              "      <th>smoke</th>\n",
              "      <th>age_years</th>\n",
              "      <th>alco</th>\n",
              "    </tr>\n",
              "  </thead>\n",
              "  <tbody>\n",
              "    <tr>\n",
              "      <th>0</th>\n",
              "      <td>44</td>\n",
              "      <td>1</td>\n",
              "      <td>159</td>\n",
              "      <td>60.0</td>\n",
              "      <td>110</td>\n",
              "      <td>70</td>\n",
              "      <td>1</td>\n",
              "      <td>0</td>\n",
              "      <td>40.0</td>\n",
              "      <td>0</td>\n",
              "    </tr>\n",
              "    <tr>\n",
              "      <th>1</th>\n",
              "      <td>45</td>\n",
              "      <td>1</td>\n",
              "      <td>160</td>\n",
              "      <td>73.0</td>\n",
              "      <td>130</td>\n",
              "      <td>85</td>\n",
              "      <td>1</td>\n",
              "      <td>0</td>\n",
              "      <td>56.0</td>\n",
              "      <td>0</td>\n",
              "    </tr>\n",
              "    <tr>\n",
              "      <th>2</th>\n",
              "      <td>46</td>\n",
              "      <td>2</td>\n",
              "      <td>173</td>\n",
              "      <td>82.0</td>\n",
              "      <td>140</td>\n",
              "      <td>90</td>\n",
              "      <td>3</td>\n",
              "      <td>0</td>\n",
              "      <td>60.0</td>\n",
              "      <td>0</td>\n",
              "    </tr>\n",
              "    <tr>\n",
              "      <th>3</th>\n",
              "      <td>47</td>\n",
              "      <td>1</td>\n",
              "      <td>163</td>\n",
              "      <td>55.0</td>\n",
              "      <td>120</td>\n",
              "      <td>80</td>\n",
              "      <td>1</td>\n",
              "      <td>0</td>\n",
              "      <td>55.0</td>\n",
              "      <td>0</td>\n",
              "    </tr>\n",
              "    <tr>\n",
              "      <th>4</th>\n",
              "      <td>49</td>\n",
              "      <td>2</td>\n",
              "      <td>175</td>\n",
              "      <td>95.0</td>\n",
              "      <td>120</td>\n",
              "      <td>80</td>\n",
              "      <td>1</td>\n",
              "      <td>0</td>\n",
              "      <td>50.0</td>\n",
              "      <td>0</td>\n",
              "    </tr>\n",
              "    <tr>\n",
              "      <th>...</th>\n",
              "      <td>...</td>\n",
              "      <td>...</td>\n",
              "      <td>...</td>\n",
              "      <td>...</td>\n",
              "      <td>...</td>\n",
              "      <td>...</td>\n",
              "      <td>...</td>\n",
              "      <td>...</td>\n",
              "      <td>...</td>\n",
              "      <td>...</td>\n",
              "    </tr>\n",
              "    <tr>\n",
              "      <th>56898</th>\n",
              "      <td>99949</td>\n",
              "      <td>1</td>\n",
              "      <td>178</td>\n",
              "      <td>69.0</td>\n",
              "      <td>130</td>\n",
              "      <td>90</td>\n",
              "      <td>1</td>\n",
              "      <td>0</td>\n",
              "      <td>57.0</td>\n",
              "      <td>0</td>\n",
              "    </tr>\n",
              "    <tr>\n",
              "      <th>56899</th>\n",
              "      <td>99950</td>\n",
              "      <td>2</td>\n",
              "      <td>155</td>\n",
              "      <td>76.0</td>\n",
              "      <td>130</td>\n",
              "      <td>90</td>\n",
              "      <td>1</td>\n",
              "      <td>0</td>\n",
              "      <td>53.0</td>\n",
              "      <td>0</td>\n",
              "    </tr>\n",
              "    <tr>\n",
              "      <th>56900</th>\n",
              "      <td>99951</td>\n",
              "      <td>2</td>\n",
              "      <td>170</td>\n",
              "      <td>72.0</td>\n",
              "      <td>120</td>\n",
              "      <td>80</td>\n",
              "      <td>1</td>\n",
              "      <td>0</td>\n",
              "      <td>61.0</td>\n",
              "      <td>0</td>\n",
              "    </tr>\n",
              "    <tr>\n",
              "      <th>56901</th>\n",
              "      <td>99952</td>\n",
              "      <td>2</td>\n",
              "      <td>165</td>\n",
              "      <td>66.0</td>\n",
              "      <td>120</td>\n",
              "      <td>80</td>\n",
              "      <td>1</td>\n",
              "      <td>0</td>\n",
              "      <td>42.0</td>\n",
              "      <td>0</td>\n",
              "    </tr>\n",
              "    <tr>\n",
              "      <th>56902</th>\n",
              "      <td>99954</td>\n",
              "      <td>1</td>\n",
              "      <td>156</td>\n",
              "      <td>67.0</td>\n",
              "      <td>140</td>\n",
              "      <td>80</td>\n",
              "      <td>2</td>\n",
              "      <td>0</td>\n",
              "      <td>55.0</td>\n",
              "      <td>0</td>\n",
              "    </tr>\n",
              "  </tbody>\n",
              "</table>\n",
              "<p>56903 rows × 10 columns</p>\n",
              "</div>\n",
              "      <button class=\"colab-df-convert\" onclick=\"convertToInteractive('df-5169fc99-5907-49ce-9466-de9507a9764d')\"\n",
              "              title=\"Convert this dataframe to an interactive table.\"\n",
              "              style=\"display:none;\">\n",
              "        \n",
              "  <svg xmlns=\"http://www.w3.org/2000/svg\" height=\"24px\"viewBox=\"0 0 24 24\"\n",
              "       width=\"24px\">\n",
              "    <path d=\"M0 0h24v24H0V0z\" fill=\"none\"/>\n",
              "    <path d=\"M18.56 5.44l.94 2.06.94-2.06 2.06-.94-2.06-.94-.94-2.06-.94 2.06-2.06.94zm-11 1L8.5 8.5l.94-2.06 2.06-.94-2.06-.94L8.5 2.5l-.94 2.06-2.06.94zm10 10l.94 2.06.94-2.06 2.06-.94-2.06-.94-.94-2.06-.94 2.06-2.06.94z\"/><path d=\"M17.41 7.96l-1.37-1.37c-.4-.4-.92-.59-1.43-.59-.52 0-1.04.2-1.43.59L10.3 9.45l-7.72 7.72c-.78.78-.78 2.05 0 2.83L4 21.41c.39.39.9.59 1.41.59.51 0 1.02-.2 1.41-.59l7.78-7.78 2.81-2.81c.8-.78.8-2.07 0-2.86zM5.41 20L4 18.59l7.72-7.72 1.47 1.35L5.41 20z\"/>\n",
              "  </svg>\n",
              "      </button>\n",
              "      \n",
              "  <style>\n",
              "    .colab-df-container {\n",
              "      display:flex;\n",
              "      flex-wrap:wrap;\n",
              "      gap: 12px;\n",
              "    }\n",
              "\n",
              "    .colab-df-convert {\n",
              "      background-color: #E8F0FE;\n",
              "      border: none;\n",
              "      border-radius: 50%;\n",
              "      cursor: pointer;\n",
              "      display: none;\n",
              "      fill: #1967D2;\n",
              "      height: 32px;\n",
              "      padding: 0 0 0 0;\n",
              "      width: 32px;\n",
              "    }\n",
              "\n",
              "    .colab-df-convert:hover {\n",
              "      background-color: #E2EBFA;\n",
              "      box-shadow: 0px 1px 2px rgba(60, 64, 67, 0.3), 0px 1px 3px 1px rgba(60, 64, 67, 0.15);\n",
              "      fill: #174EA6;\n",
              "    }\n",
              "\n",
              "    [theme=dark] .colab-df-convert {\n",
              "      background-color: #3B4455;\n",
              "      fill: #D2E3FC;\n",
              "    }\n",
              "\n",
              "    [theme=dark] .colab-df-convert:hover {\n",
              "      background-color: #434B5C;\n",
              "      box-shadow: 0px 1px 3px 1px rgba(0, 0, 0, 0.15);\n",
              "      filter: drop-shadow(0px 1px 2px rgba(0, 0, 0, 0.3));\n",
              "      fill: #FFFFFF;\n",
              "    }\n",
              "  </style>\n",
              "\n",
              "      <script>\n",
              "        const buttonEl =\n",
              "          document.querySelector('#df-5169fc99-5907-49ce-9466-de9507a9764d button.colab-df-convert');\n",
              "        buttonEl.style.display =\n",
              "          google.colab.kernel.accessAllowed ? 'block' : 'none';\n",
              "\n",
              "        async function convertToInteractive(key) {\n",
              "          const element = document.querySelector('#df-5169fc99-5907-49ce-9466-de9507a9764d');\n",
              "          const dataTable =\n",
              "            await google.colab.kernel.invokeFunction('convertToInteractive',\n",
              "                                                     [key], {});\n",
              "          if (!dataTable) return;\n",
              "\n",
              "          const docLinkHtml = 'Like what you see? Visit the ' +\n",
              "            '<a target=\"_blank\" href=https://colab.research.google.com/notebooks/data_table.ipynb>data table notebook</a>'\n",
              "            + ' to learn more about interactive tables.';\n",
              "          element.innerHTML = '';\n",
              "          dataTable['output_type'] = 'display_data';\n",
              "          await google.colab.output.renderOutput(dataTable, element);\n",
              "          const docLink = document.createElement('div');\n",
              "          docLink.innerHTML = docLinkHtml;\n",
              "          element.appendChild(docLink);\n",
              "        }\n",
              "      </script>\n",
              "    </div>\n",
              "  </div>\n",
              "  "
            ]
          },
          "metadata": {},
          "execution_count": 124
        }
      ]
    },
    {
      "cell_type": "code",
      "source": [
        "alcoholism = merged_data[(merged_data['age_years'] >= 50) & (merged_data['alco'] == 1)]\n",
        "len(alcoholism)/len(data)"
      ],
      "metadata": {
        "colab": {
          "base_uri": "https://localhost:8080/"
        },
        "id": "jSHeMcg7bZLe",
        "outputId": "9346dc45-4bdd-4bc9-8d4a-93b6a7be9c74"
      },
      "execution_count": null,
      "outputs": [
        {
          "output_type": "execute_result",
          "data": {
            "text/plain": [
              "0.027957142857142857"
            ]
          },
          "metadata": {},
          "execution_count": 129
        }
      ]
    },
    {
      "cell_type": "code",
      "source": [
        "al = data[(data['gender'] == 1) & (data['cholesterol'] >= 3)]\n",
        "len(al)"
      ],
      "metadata": {
        "colab": {
          "base_uri": "https://localhost:8080/"
        },
        "id": "JLj2XizTb0-G",
        "outputId": "d430485b-6c74-42eb-ad32-a5c8b8cfe0a1"
      },
      "execution_count": null,
      "outputs": [
        {
          "output_type": "execute_result",
          "data": {
            "text/plain": [
              "5557"
            ]
          },
          "metadata": {},
          "execution_count": 133
        }
      ]
    },
    {
      "cell_type": "code",
      "source": [
        "al = data[(data['gender'] == 2) & (data['cholesterol'] >= 3)]\n",
        "len(al)"
      ],
      "metadata": {
        "colab": {
          "base_uri": "https://localhost:8080/"
        },
        "id": "2Bg_XPx4cmUZ",
        "outputId": "e9f5eaa0-3767-4b92-e09a-65305e9b20c9"
      },
      "execution_count": null,
      "outputs": [
        {
          "output_type": "execute_result",
          "data": {
            "text/plain": [
              "2509"
            ]
          },
          "metadata": {},
          "execution_count": 134
        }
      ]
    },
    {
      "cell_type": "code",
      "source": [
        "covid_data = pd.read_csv('./data/covid_data.csv')"
      ],
      "metadata": {
        "id": "02HpMGsbcrIe"
      },
      "execution_count": null,
      "outputs": []
    },
    {
      "cell_type": "code",
      "source": [
        "covid_data"
      ],
      "metadata": {
        "colab": {
          "base_uri": "https://localhost:8080/",
          "height": 424
        },
        "id": "Oyprnj1VdStL",
        "outputId": "0f2403cd-8031-4fc6-d279-47777e51d880"
      },
      "execution_count": null,
      "outputs": [
        {
          "output_type": "execute_result",
          "data": {
            "text/plain": [
              "            location        date  new_cases  new_deaths  population  \\\n",
              "0        Afghanistan  2019-12-31          0           0  38928341.0   \n",
              "1        Afghanistan  2020-01-01          0           0  38928341.0   \n",
              "2        Afghanistan  2020-01-02          0           0  38928341.0   \n",
              "3        Afghanistan  2020-01-03          0           0  38928341.0   \n",
              "4        Afghanistan  2020-01-04          0           0  38928341.0   \n",
              "...              ...         ...        ...         ...         ...   \n",
              "23077  International  2020-02-28          0           0         NaN   \n",
              "23078  International  2020-02-29          0           2         NaN   \n",
              "23079  International  2020-03-01          0           0         NaN   \n",
              "23080  International  2020-03-02          0           0         NaN   \n",
              "23081  International  2020-03-10         -9           1         NaN   \n",
              "\n",
              "       aged_65_older_percent  gdp_per_capita  hospital_beds_per_thousand  \n",
              "0                      2.581        1803.987                         0.5  \n",
              "1                      2.581        1803.987                         0.5  \n",
              "2                      2.581        1803.987                         0.5  \n",
              "3                      2.581        1803.987                         0.5  \n",
              "4                      2.581        1803.987                         0.5  \n",
              "...                      ...             ...                         ...  \n",
              "23077                    NaN             NaN                         NaN  \n",
              "23078                    NaN             NaN                         NaN  \n",
              "23079                    NaN             NaN                         NaN  \n",
              "23080                    NaN             NaN                         NaN  \n",
              "23081                    NaN             NaN                         NaN  \n",
              "\n",
              "[23082 rows x 8 columns]"
            ],
            "text/html": [
              "\n",
              "  <div id=\"df-22b7c593-534a-42f5-85f0-29fcd81b6a39\">\n",
              "    <div class=\"colab-df-container\">\n",
              "      <div>\n",
              "<style scoped>\n",
              "    .dataframe tbody tr th:only-of-type {\n",
              "        vertical-align: middle;\n",
              "    }\n",
              "\n",
              "    .dataframe tbody tr th {\n",
              "        vertical-align: top;\n",
              "    }\n",
              "\n",
              "    .dataframe thead th {\n",
              "        text-align: right;\n",
              "    }\n",
              "</style>\n",
              "<table border=\"1\" class=\"dataframe\">\n",
              "  <thead>\n",
              "    <tr style=\"text-align: right;\">\n",
              "      <th></th>\n",
              "      <th>location</th>\n",
              "      <th>date</th>\n",
              "      <th>new_cases</th>\n",
              "      <th>new_deaths</th>\n",
              "      <th>population</th>\n",
              "      <th>aged_65_older_percent</th>\n",
              "      <th>gdp_per_capita</th>\n",
              "      <th>hospital_beds_per_thousand</th>\n",
              "    </tr>\n",
              "  </thead>\n",
              "  <tbody>\n",
              "    <tr>\n",
              "      <th>0</th>\n",
              "      <td>Afghanistan</td>\n",
              "      <td>2019-12-31</td>\n",
              "      <td>0</td>\n",
              "      <td>0</td>\n",
              "      <td>38928341.0</td>\n",
              "      <td>2.581</td>\n",
              "      <td>1803.987</td>\n",
              "      <td>0.5</td>\n",
              "    </tr>\n",
              "    <tr>\n",
              "      <th>1</th>\n",
              "      <td>Afghanistan</td>\n",
              "      <td>2020-01-01</td>\n",
              "      <td>0</td>\n",
              "      <td>0</td>\n",
              "      <td>38928341.0</td>\n",
              "      <td>2.581</td>\n",
              "      <td>1803.987</td>\n",
              "      <td>0.5</td>\n",
              "    </tr>\n",
              "    <tr>\n",
              "      <th>2</th>\n",
              "      <td>Afghanistan</td>\n",
              "      <td>2020-01-02</td>\n",
              "      <td>0</td>\n",
              "      <td>0</td>\n",
              "      <td>38928341.0</td>\n",
              "      <td>2.581</td>\n",
              "      <td>1803.987</td>\n",
              "      <td>0.5</td>\n",
              "    </tr>\n",
              "    <tr>\n",
              "      <th>3</th>\n",
              "      <td>Afghanistan</td>\n",
              "      <td>2020-01-03</td>\n",
              "      <td>0</td>\n",
              "      <td>0</td>\n",
              "      <td>38928341.0</td>\n",
              "      <td>2.581</td>\n",
              "      <td>1803.987</td>\n",
              "      <td>0.5</td>\n",
              "    </tr>\n",
              "    <tr>\n",
              "      <th>4</th>\n",
              "      <td>Afghanistan</td>\n",
              "      <td>2020-01-04</td>\n",
              "      <td>0</td>\n",
              "      <td>0</td>\n",
              "      <td>38928341.0</td>\n",
              "      <td>2.581</td>\n",
              "      <td>1803.987</td>\n",
              "      <td>0.5</td>\n",
              "    </tr>\n",
              "    <tr>\n",
              "      <th>...</th>\n",
              "      <td>...</td>\n",
              "      <td>...</td>\n",
              "      <td>...</td>\n",
              "      <td>...</td>\n",
              "      <td>...</td>\n",
              "      <td>...</td>\n",
              "      <td>...</td>\n",
              "      <td>...</td>\n",
              "    </tr>\n",
              "    <tr>\n",
              "      <th>23077</th>\n",
              "      <td>International</td>\n",
              "      <td>2020-02-28</td>\n",
              "      <td>0</td>\n",
              "      <td>0</td>\n",
              "      <td>NaN</td>\n",
              "      <td>NaN</td>\n",
              "      <td>NaN</td>\n",
              "      <td>NaN</td>\n",
              "    </tr>\n",
              "    <tr>\n",
              "      <th>23078</th>\n",
              "      <td>International</td>\n",
              "      <td>2020-02-29</td>\n",
              "      <td>0</td>\n",
              "      <td>2</td>\n",
              "      <td>NaN</td>\n",
              "      <td>NaN</td>\n",
              "      <td>NaN</td>\n",
              "      <td>NaN</td>\n",
              "    </tr>\n",
              "    <tr>\n",
              "      <th>23079</th>\n",
              "      <td>International</td>\n",
              "      <td>2020-03-01</td>\n",
              "      <td>0</td>\n",
              "      <td>0</td>\n",
              "      <td>NaN</td>\n",
              "      <td>NaN</td>\n",
              "      <td>NaN</td>\n",
              "      <td>NaN</td>\n",
              "    </tr>\n",
              "    <tr>\n",
              "      <th>23080</th>\n",
              "      <td>International</td>\n",
              "      <td>2020-03-02</td>\n",
              "      <td>0</td>\n",
              "      <td>0</td>\n",
              "      <td>NaN</td>\n",
              "      <td>NaN</td>\n",
              "      <td>NaN</td>\n",
              "      <td>NaN</td>\n",
              "    </tr>\n",
              "    <tr>\n",
              "      <th>23081</th>\n",
              "      <td>International</td>\n",
              "      <td>2020-03-10</td>\n",
              "      <td>-9</td>\n",
              "      <td>1</td>\n",
              "      <td>NaN</td>\n",
              "      <td>NaN</td>\n",
              "      <td>NaN</td>\n",
              "      <td>NaN</td>\n",
              "    </tr>\n",
              "  </tbody>\n",
              "</table>\n",
              "<p>23082 rows × 8 columns</p>\n",
              "</div>\n",
              "      <button class=\"colab-df-convert\" onclick=\"convertToInteractive('df-22b7c593-534a-42f5-85f0-29fcd81b6a39')\"\n",
              "              title=\"Convert this dataframe to an interactive table.\"\n",
              "              style=\"display:none;\">\n",
              "        \n",
              "  <svg xmlns=\"http://www.w3.org/2000/svg\" height=\"24px\"viewBox=\"0 0 24 24\"\n",
              "       width=\"24px\">\n",
              "    <path d=\"M0 0h24v24H0V0z\" fill=\"none\"/>\n",
              "    <path d=\"M18.56 5.44l.94 2.06.94-2.06 2.06-.94-2.06-.94-.94-2.06-.94 2.06-2.06.94zm-11 1L8.5 8.5l.94-2.06 2.06-.94-2.06-.94L8.5 2.5l-.94 2.06-2.06.94zm10 10l.94 2.06.94-2.06 2.06-.94-2.06-.94-.94-2.06-.94 2.06-2.06.94z\"/><path d=\"M17.41 7.96l-1.37-1.37c-.4-.4-.92-.59-1.43-.59-.52 0-1.04.2-1.43.59L10.3 9.45l-7.72 7.72c-.78.78-.78 2.05 0 2.83L4 21.41c.39.39.9.59 1.41.59.51 0 1.02-.2 1.41-.59l7.78-7.78 2.81-2.81c.8-.78.8-2.07 0-2.86zM5.41 20L4 18.59l7.72-7.72 1.47 1.35L5.41 20z\"/>\n",
              "  </svg>\n",
              "      </button>\n",
              "      \n",
              "  <style>\n",
              "    .colab-df-container {\n",
              "      display:flex;\n",
              "      flex-wrap:wrap;\n",
              "      gap: 12px;\n",
              "    }\n",
              "\n",
              "    .colab-df-convert {\n",
              "      background-color: #E8F0FE;\n",
              "      border: none;\n",
              "      border-radius: 50%;\n",
              "      cursor: pointer;\n",
              "      display: none;\n",
              "      fill: #1967D2;\n",
              "      height: 32px;\n",
              "      padding: 0 0 0 0;\n",
              "      width: 32px;\n",
              "    }\n",
              "\n",
              "    .colab-df-convert:hover {\n",
              "      background-color: #E2EBFA;\n",
              "      box-shadow: 0px 1px 2px rgba(60, 64, 67, 0.3), 0px 1px 3px 1px rgba(60, 64, 67, 0.15);\n",
              "      fill: #174EA6;\n",
              "    }\n",
              "\n",
              "    [theme=dark] .colab-df-convert {\n",
              "      background-color: #3B4455;\n",
              "      fill: #D2E3FC;\n",
              "    }\n",
              "\n",
              "    [theme=dark] .colab-df-convert:hover {\n",
              "      background-color: #434B5C;\n",
              "      box-shadow: 0px 1px 3px 1px rgba(0, 0, 0, 0.15);\n",
              "      filter: drop-shadow(0px 1px 2px rgba(0, 0, 0, 0.3));\n",
              "      fill: #FFFFFF;\n",
              "    }\n",
              "  </style>\n",
              "\n",
              "      <script>\n",
              "        const buttonEl =\n",
              "          document.querySelector('#df-22b7c593-534a-42f5-85f0-29fcd81b6a39 button.colab-df-convert');\n",
              "        buttonEl.style.display =\n",
              "          google.colab.kernel.accessAllowed ? 'block' : 'none';\n",
              "\n",
              "        async function convertToInteractive(key) {\n",
              "          const element = document.querySelector('#df-22b7c593-534a-42f5-85f0-29fcd81b6a39');\n",
              "          const dataTable =\n",
              "            await google.colab.kernel.invokeFunction('convertToInteractive',\n",
              "                                                     [key], {});\n",
              "          if (!dataTable) return;\n",
              "\n",
              "          const docLinkHtml = 'Like what you see? Visit the ' +\n",
              "            '<a target=\"_blank\" href=https://colab.research.google.com/notebooks/data_table.ipynb>data table notebook</a>'\n",
              "            + ' to learn more about interactive tables.';\n",
              "          element.innerHTML = '';\n",
              "          dataTable['output_type'] = 'display_data';\n",
              "          await google.colab.output.renderOutput(dataTable, element);\n",
              "          const docLink = document.createElement('div');\n",
              "          docLink.innerHTML = docLinkHtml;\n",
              "          element.appendChild(docLink);\n",
              "        }\n",
              "      </script>\n",
              "    </div>\n",
              "  </div>\n",
              "  "
            ]
          },
          "metadata": {},
          "execution_count": 137
        }
      ]
    },
    {
      "cell_type": "code",
      "source": [
        "filtered_data = covid_data[covid_data['location'].isin(['Italy', 'Germany'])]\n",
        "cumulative_data = filtered_data.groupby('date')['new_cases'].sum().cumsum()\n",
        "start_date = cumulative_data[cumulative_data > 10000].index[0]"
      ],
      "metadata": {
        "id": "nfGCDD-WdVno"
      },
      "execution_count": null,
      "outputs": []
    },
    {
      "cell_type": "code",
      "source": [
        "start_date"
      ],
      "metadata": {
        "colab": {
          "base_uri": "https://localhost:8080/",
          "height": 35
        },
        "id": "1kVnUKIZefUi",
        "outputId": "466ba9f0-34f4-4ab4-c66b-1992d16cd63e"
      },
      "execution_count": null,
      "outputs": [
        {
          "output_type": "execute_result",
          "data": {
            "text/plain": [
              "'2020-03-10'"
            ],
            "application/vnd.google.colaboratory.intrinsic+json": {
              "type": "string"
            }
          },
          "metadata": {},
          "execution_count": 139
        }
      ]
    },
    {
      "cell_type": "code",
      "source": [
        "filtered_data = covid_data[(covid_data['location'] == 'Italy') & (covid_data['date'] >= '2020-02-28') & (covid_data['date'] <= '2020-03-20')]\n",
        "filtered_data"
      ],
      "metadata": {
        "colab": {
          "base_uri": "https://localhost:8080/",
          "height": 739
        },
        "id": "y22ffylJegIW",
        "outputId": "4d1cb13e-ab49-4ad3-b2aa-a4b2acae43f8"
      },
      "execution_count": null,
      "outputs": [
        {
          "output_type": "execute_result",
          "data": {
            "text/plain": [
              "      location        date  new_cases  new_deaths  population  \\\n",
              "10747    Italy  2020-02-28        250           5  60461828.0   \n",
              "10748    Italy  2020-02-29        238           4  60461828.0   \n",
              "10749    Italy  2020-03-01        240           8  60461828.0   \n",
              "10750    Italy  2020-03-02        561           6  60461828.0   \n",
              "10751    Italy  2020-03-03        347          17  60461828.0   \n",
              "10752    Italy  2020-03-04        466          28  60461828.0   \n",
              "10753    Italy  2020-03-05        587          27  60461828.0   \n",
              "10754    Italy  2020-03-06        769          41  60461828.0   \n",
              "10755    Italy  2020-03-07        778          49  60461828.0   \n",
              "10756    Italy  2020-03-08       1247          36  60461828.0   \n",
              "10757    Italy  2020-03-09       1492         133  60461828.0   \n",
              "10758    Italy  2020-03-10       1797          98  60461828.0   \n",
              "10759    Italy  2020-03-11        977         167  60461828.0   \n",
              "10760    Italy  2020-03-12       2313         196  60461828.0   \n",
              "10761    Italy  2020-03-13       2651         189  60461828.0   \n",
              "10762    Italy  2020-03-14       2547         252  60461828.0   \n",
              "10763    Italy  2020-03-15       3497         173  60461828.0   \n",
              "10764    Italy  2020-03-16       2823         370  60461828.0   \n",
              "10765    Italy  2020-03-17       4000         347  60461828.0   \n",
              "10766    Italy  2020-03-18       3526         347  60461828.0   \n",
              "10767    Italy  2020-03-19       4207         473  60461828.0   \n",
              "10768    Italy  2020-03-20       5322         429  60461828.0   \n",
              "\n",
              "       aged_65_older_percent  gdp_per_capita  hospital_beds_per_thousand  \n",
              "10747                 23.021       35220.084                        3.18  \n",
              "10748                 23.021       35220.084                        3.18  \n",
              "10749                 23.021       35220.084                        3.18  \n",
              "10750                 23.021       35220.084                        3.18  \n",
              "10751                 23.021       35220.084                        3.18  \n",
              "10752                 23.021       35220.084                        3.18  \n",
              "10753                 23.021       35220.084                        3.18  \n",
              "10754                 23.021       35220.084                        3.18  \n",
              "10755                 23.021       35220.084                        3.18  \n",
              "10756                 23.021       35220.084                        3.18  \n",
              "10757                 23.021       35220.084                        3.18  \n",
              "10758                 23.021       35220.084                        3.18  \n",
              "10759                 23.021       35220.084                        3.18  \n",
              "10760                 23.021       35220.084                        3.18  \n",
              "10761                 23.021       35220.084                        3.18  \n",
              "10762                 23.021       35220.084                        3.18  \n",
              "10763                 23.021       35220.084                        3.18  \n",
              "10764                 23.021       35220.084                        3.18  \n",
              "10765                 23.021       35220.084                        3.18  \n",
              "10766                 23.021       35220.084                        3.18  \n",
              "10767                 23.021       35220.084                        3.18  \n",
              "10768                 23.021       35220.084                        3.18  "
            ],
            "text/html": [
              "\n",
              "  <div id=\"df-5238093d-3d47-4776-99b6-048158f672e0\">\n",
              "    <div class=\"colab-df-container\">\n",
              "      <div>\n",
              "<style scoped>\n",
              "    .dataframe tbody tr th:only-of-type {\n",
              "        vertical-align: middle;\n",
              "    }\n",
              "\n",
              "    .dataframe tbody tr th {\n",
              "        vertical-align: top;\n",
              "    }\n",
              "\n",
              "    .dataframe thead th {\n",
              "        text-align: right;\n",
              "    }\n",
              "</style>\n",
              "<table border=\"1\" class=\"dataframe\">\n",
              "  <thead>\n",
              "    <tr style=\"text-align: right;\">\n",
              "      <th></th>\n",
              "      <th>location</th>\n",
              "      <th>date</th>\n",
              "      <th>new_cases</th>\n",
              "      <th>new_deaths</th>\n",
              "      <th>population</th>\n",
              "      <th>aged_65_older_percent</th>\n",
              "      <th>gdp_per_capita</th>\n",
              "      <th>hospital_beds_per_thousand</th>\n",
              "    </tr>\n",
              "  </thead>\n",
              "  <tbody>\n",
              "    <tr>\n",
              "      <th>10747</th>\n",
              "      <td>Italy</td>\n",
              "      <td>2020-02-28</td>\n",
              "      <td>250</td>\n",
              "      <td>5</td>\n",
              "      <td>60461828.0</td>\n",
              "      <td>23.021</td>\n",
              "      <td>35220.084</td>\n",
              "      <td>3.18</td>\n",
              "    </tr>\n",
              "    <tr>\n",
              "      <th>10748</th>\n",
              "      <td>Italy</td>\n",
              "      <td>2020-02-29</td>\n",
              "      <td>238</td>\n",
              "      <td>4</td>\n",
              "      <td>60461828.0</td>\n",
              "      <td>23.021</td>\n",
              "      <td>35220.084</td>\n",
              "      <td>3.18</td>\n",
              "    </tr>\n",
              "    <tr>\n",
              "      <th>10749</th>\n",
              "      <td>Italy</td>\n",
              "      <td>2020-03-01</td>\n",
              "      <td>240</td>\n",
              "      <td>8</td>\n",
              "      <td>60461828.0</td>\n",
              "      <td>23.021</td>\n",
              "      <td>35220.084</td>\n",
              "      <td>3.18</td>\n",
              "    </tr>\n",
              "    <tr>\n",
              "      <th>10750</th>\n",
              "      <td>Italy</td>\n",
              "      <td>2020-03-02</td>\n",
              "      <td>561</td>\n",
              "      <td>6</td>\n",
              "      <td>60461828.0</td>\n",
              "      <td>23.021</td>\n",
              "      <td>35220.084</td>\n",
              "      <td>3.18</td>\n",
              "    </tr>\n",
              "    <tr>\n",
              "      <th>10751</th>\n",
              "      <td>Italy</td>\n",
              "      <td>2020-03-03</td>\n",
              "      <td>347</td>\n",
              "      <td>17</td>\n",
              "      <td>60461828.0</td>\n",
              "      <td>23.021</td>\n",
              "      <td>35220.084</td>\n",
              "      <td>3.18</td>\n",
              "    </tr>\n",
              "    <tr>\n",
              "      <th>10752</th>\n",
              "      <td>Italy</td>\n",
              "      <td>2020-03-04</td>\n",
              "      <td>466</td>\n",
              "      <td>28</td>\n",
              "      <td>60461828.0</td>\n",
              "      <td>23.021</td>\n",
              "      <td>35220.084</td>\n",
              "      <td>3.18</td>\n",
              "    </tr>\n",
              "    <tr>\n",
              "      <th>10753</th>\n",
              "      <td>Italy</td>\n",
              "      <td>2020-03-05</td>\n",
              "      <td>587</td>\n",
              "      <td>27</td>\n",
              "      <td>60461828.0</td>\n",
              "      <td>23.021</td>\n",
              "      <td>35220.084</td>\n",
              "      <td>3.18</td>\n",
              "    </tr>\n",
              "    <tr>\n",
              "      <th>10754</th>\n",
              "      <td>Italy</td>\n",
              "      <td>2020-03-06</td>\n",
              "      <td>769</td>\n",
              "      <td>41</td>\n",
              "      <td>60461828.0</td>\n",
              "      <td>23.021</td>\n",
              "      <td>35220.084</td>\n",
              "      <td>3.18</td>\n",
              "    </tr>\n",
              "    <tr>\n",
              "      <th>10755</th>\n",
              "      <td>Italy</td>\n",
              "      <td>2020-03-07</td>\n",
              "      <td>778</td>\n",
              "      <td>49</td>\n",
              "      <td>60461828.0</td>\n",
              "      <td>23.021</td>\n",
              "      <td>35220.084</td>\n",
              "      <td>3.18</td>\n",
              "    </tr>\n",
              "    <tr>\n",
              "      <th>10756</th>\n",
              "      <td>Italy</td>\n",
              "      <td>2020-03-08</td>\n",
              "      <td>1247</td>\n",
              "      <td>36</td>\n",
              "      <td>60461828.0</td>\n",
              "      <td>23.021</td>\n",
              "      <td>35220.084</td>\n",
              "      <td>3.18</td>\n",
              "    </tr>\n",
              "    <tr>\n",
              "      <th>10757</th>\n",
              "      <td>Italy</td>\n",
              "      <td>2020-03-09</td>\n",
              "      <td>1492</td>\n",
              "      <td>133</td>\n",
              "      <td>60461828.0</td>\n",
              "      <td>23.021</td>\n",
              "      <td>35220.084</td>\n",
              "      <td>3.18</td>\n",
              "    </tr>\n",
              "    <tr>\n",
              "      <th>10758</th>\n",
              "      <td>Italy</td>\n",
              "      <td>2020-03-10</td>\n",
              "      <td>1797</td>\n",
              "      <td>98</td>\n",
              "      <td>60461828.0</td>\n",
              "      <td>23.021</td>\n",
              "      <td>35220.084</td>\n",
              "      <td>3.18</td>\n",
              "    </tr>\n",
              "    <tr>\n",
              "      <th>10759</th>\n",
              "      <td>Italy</td>\n",
              "      <td>2020-03-11</td>\n",
              "      <td>977</td>\n",
              "      <td>167</td>\n",
              "      <td>60461828.0</td>\n",
              "      <td>23.021</td>\n",
              "      <td>35220.084</td>\n",
              "      <td>3.18</td>\n",
              "    </tr>\n",
              "    <tr>\n",
              "      <th>10760</th>\n",
              "      <td>Italy</td>\n",
              "      <td>2020-03-12</td>\n",
              "      <td>2313</td>\n",
              "      <td>196</td>\n",
              "      <td>60461828.0</td>\n",
              "      <td>23.021</td>\n",
              "      <td>35220.084</td>\n",
              "      <td>3.18</td>\n",
              "    </tr>\n",
              "    <tr>\n",
              "      <th>10761</th>\n",
              "      <td>Italy</td>\n",
              "      <td>2020-03-13</td>\n",
              "      <td>2651</td>\n",
              "      <td>189</td>\n",
              "      <td>60461828.0</td>\n",
              "      <td>23.021</td>\n",
              "      <td>35220.084</td>\n",
              "      <td>3.18</td>\n",
              "    </tr>\n",
              "    <tr>\n",
              "      <th>10762</th>\n",
              "      <td>Italy</td>\n",
              "      <td>2020-03-14</td>\n",
              "      <td>2547</td>\n",
              "      <td>252</td>\n",
              "      <td>60461828.0</td>\n",
              "      <td>23.021</td>\n",
              "      <td>35220.084</td>\n",
              "      <td>3.18</td>\n",
              "    </tr>\n",
              "    <tr>\n",
              "      <th>10763</th>\n",
              "      <td>Italy</td>\n",
              "      <td>2020-03-15</td>\n",
              "      <td>3497</td>\n",
              "      <td>173</td>\n",
              "      <td>60461828.0</td>\n",
              "      <td>23.021</td>\n",
              "      <td>35220.084</td>\n",
              "      <td>3.18</td>\n",
              "    </tr>\n",
              "    <tr>\n",
              "      <th>10764</th>\n",
              "      <td>Italy</td>\n",
              "      <td>2020-03-16</td>\n",
              "      <td>2823</td>\n",
              "      <td>370</td>\n",
              "      <td>60461828.0</td>\n",
              "      <td>23.021</td>\n",
              "      <td>35220.084</td>\n",
              "      <td>3.18</td>\n",
              "    </tr>\n",
              "    <tr>\n",
              "      <th>10765</th>\n",
              "      <td>Italy</td>\n",
              "      <td>2020-03-17</td>\n",
              "      <td>4000</td>\n",
              "      <td>347</td>\n",
              "      <td>60461828.0</td>\n",
              "      <td>23.021</td>\n",
              "      <td>35220.084</td>\n",
              "      <td>3.18</td>\n",
              "    </tr>\n",
              "    <tr>\n",
              "      <th>10766</th>\n",
              "      <td>Italy</td>\n",
              "      <td>2020-03-18</td>\n",
              "      <td>3526</td>\n",
              "      <td>347</td>\n",
              "      <td>60461828.0</td>\n",
              "      <td>23.021</td>\n",
              "      <td>35220.084</td>\n",
              "      <td>3.18</td>\n",
              "    </tr>\n",
              "    <tr>\n",
              "      <th>10767</th>\n",
              "      <td>Italy</td>\n",
              "      <td>2020-03-19</td>\n",
              "      <td>4207</td>\n",
              "      <td>473</td>\n",
              "      <td>60461828.0</td>\n",
              "      <td>23.021</td>\n",
              "      <td>35220.084</td>\n",
              "      <td>3.18</td>\n",
              "    </tr>\n",
              "    <tr>\n",
              "      <th>10768</th>\n",
              "      <td>Italy</td>\n",
              "      <td>2020-03-20</td>\n",
              "      <td>5322</td>\n",
              "      <td>429</td>\n",
              "      <td>60461828.0</td>\n",
              "      <td>23.021</td>\n",
              "      <td>35220.084</td>\n",
              "      <td>3.18</td>\n",
              "    </tr>\n",
              "  </tbody>\n",
              "</table>\n",
              "</div>\n",
              "      <button class=\"colab-df-convert\" onclick=\"convertToInteractive('df-5238093d-3d47-4776-99b6-048158f672e0')\"\n",
              "              title=\"Convert this dataframe to an interactive table.\"\n",
              "              style=\"display:none;\">\n",
              "        \n",
              "  <svg xmlns=\"http://www.w3.org/2000/svg\" height=\"24px\"viewBox=\"0 0 24 24\"\n",
              "       width=\"24px\">\n",
              "    <path d=\"M0 0h24v24H0V0z\" fill=\"none\"/>\n",
              "    <path d=\"M18.56 5.44l.94 2.06.94-2.06 2.06-.94-2.06-.94-.94-2.06-.94 2.06-2.06.94zm-11 1L8.5 8.5l.94-2.06 2.06-.94-2.06-.94L8.5 2.5l-.94 2.06-2.06.94zm10 10l.94 2.06.94-2.06 2.06-.94-2.06-.94-.94-2.06-.94 2.06-2.06.94z\"/><path d=\"M17.41 7.96l-1.37-1.37c-.4-.4-.92-.59-1.43-.59-.52 0-1.04.2-1.43.59L10.3 9.45l-7.72 7.72c-.78.78-.78 2.05 0 2.83L4 21.41c.39.39.9.59 1.41.59.51 0 1.02-.2 1.41-.59l7.78-7.78 2.81-2.81c.8-.78.8-2.07 0-2.86zM5.41 20L4 18.59l7.72-7.72 1.47 1.35L5.41 20z\"/>\n",
              "  </svg>\n",
              "      </button>\n",
              "      \n",
              "  <style>\n",
              "    .colab-df-container {\n",
              "      display:flex;\n",
              "      flex-wrap:wrap;\n",
              "      gap: 12px;\n",
              "    }\n",
              "\n",
              "    .colab-df-convert {\n",
              "      background-color: #E8F0FE;\n",
              "      border: none;\n",
              "      border-radius: 50%;\n",
              "      cursor: pointer;\n",
              "      display: none;\n",
              "      fill: #1967D2;\n",
              "      height: 32px;\n",
              "      padding: 0 0 0 0;\n",
              "      width: 32px;\n",
              "    }\n",
              "\n",
              "    .colab-df-convert:hover {\n",
              "      background-color: #E2EBFA;\n",
              "      box-shadow: 0px 1px 2px rgba(60, 64, 67, 0.3), 0px 1px 3px 1px rgba(60, 64, 67, 0.15);\n",
              "      fill: #174EA6;\n",
              "    }\n",
              "\n",
              "    [theme=dark] .colab-df-convert {\n",
              "      background-color: #3B4455;\n",
              "      fill: #D2E3FC;\n",
              "    }\n",
              "\n",
              "    [theme=dark] .colab-df-convert:hover {\n",
              "      background-color: #434B5C;\n",
              "      box-shadow: 0px 1px 3px 1px rgba(0, 0, 0, 0.15);\n",
              "      filter: drop-shadow(0px 1px 2px rgba(0, 0, 0, 0.3));\n",
              "      fill: #FFFFFF;\n",
              "    }\n",
              "  </style>\n",
              "\n",
              "      <script>\n",
              "        const buttonEl =\n",
              "          document.querySelector('#df-5238093d-3d47-4776-99b6-048158f672e0 button.colab-df-convert');\n",
              "        buttonEl.style.display =\n",
              "          google.colab.kernel.accessAllowed ? 'block' : 'none';\n",
              "\n",
              "        async function convertToInteractive(key) {\n",
              "          const element = document.querySelector('#df-5238093d-3d47-4776-99b6-048158f672e0');\n",
              "          const dataTable =\n",
              "            await google.colab.kernel.invokeFunction('convertToInteractive',\n",
              "                                                     [key], {});\n",
              "          if (!dataTable) return;\n",
              "\n",
              "          const docLinkHtml = 'Like what you see? Visit the ' +\n",
              "            '<a target=\"_blank\" href=https://colab.research.google.com/notebooks/data_table.ipynb>data table notebook</a>'\n",
              "            + ' to learn more about interactive tables.';\n",
              "          element.innerHTML = '';\n",
              "          dataTable['output_type'] = 'display_data';\n",
              "          await google.colab.output.renderOutput(dataTable, element);\n",
              "          const docLink = document.createElement('div');\n",
              "          docLink.innerHTML = docLinkHtml;\n",
              "          element.appendChild(docLink);\n",
              "        }\n",
              "      </script>\n",
              "    </div>\n",
              "  </div>\n",
              "  "
            ]
          },
          "metadata": {},
          "execution_count": 141
        }
      ]
    },
    {
      "cell_type": "code",
      "source": [
        "def exponential(x, A, B):\n",
        "    return A * np.exp(B * x)"
      ],
      "metadata": {
        "id": "8pplPwp1ffxt"
      },
      "execution_count": null,
      "outputs": []
    },
    {
      "cell_type": "code",
      "source": [
        "from scipy.optimize import curve_fit"
      ],
      "metadata": {
        "id": "ihrsXBapgG9_"
      },
      "execution_count": null,
      "outputs": []
    },
    {
      "cell_type": "code",
      "source": [
        "cumulative_data = filtered_data.groupby('date')['new_cases'].sum().cumsum()"
      ],
      "metadata": {
        "id": "3cbAGmfbgMGh"
      },
      "execution_count": null,
      "outputs": []
    },
    {
      "cell_type": "code",
      "source": [
        "cumulative_data"
      ],
      "metadata": {
        "colab": {
          "base_uri": "https://localhost:8080/"
        },
        "id": "3C0MARbUgUd7",
        "outputId": "56e99346-9887-4a6f-d8a1-d81a6ada36cf"
      },
      "execution_count": null,
      "outputs": [
        {
          "output_type": "execute_result",
          "data": {
            "text/plain": [
              "date\n",
              "2020-02-28      250\n",
              "2020-02-29      488\n",
              "2020-03-01      728\n",
              "2020-03-02     1289\n",
              "2020-03-03     1636\n",
              "2020-03-04     2102\n",
              "2020-03-05     2689\n",
              "2020-03-06     3458\n",
              "2020-03-07     4236\n",
              "2020-03-08     5483\n",
              "2020-03-09     6975\n",
              "2020-03-10     8772\n",
              "2020-03-11     9749\n",
              "2020-03-12    12062\n",
              "2020-03-13    14713\n",
              "2020-03-14    17260\n",
              "2020-03-15    20757\n",
              "2020-03-16    23580\n",
              "2020-03-17    27580\n",
              "2020-03-18    31106\n",
              "2020-03-19    35313\n",
              "2020-03-20    40635\n",
              "Name: new_cases, dtype: int64"
            ]
          },
          "metadata": {},
          "execution_count": 153
        }
      ]
    },
    {
      "cell_type": "code",
      "source": [
        "len(filtered_data)"
      ],
      "metadata": {
        "colab": {
          "base_uri": "https://localhost:8080/"
        },
        "id": "H3-9gU37gb5i",
        "outputId": "1a382a84-2315-4e41-a9ab-be257edc812c"
      },
      "execution_count": null,
      "outputs": [
        {
          "output_type": "execute_result",
          "data": {
            "text/plain": [
              "22"
            ]
          },
          "metadata": {},
          "execution_count": 147
        }
      ]
    },
    {
      "cell_type": "code",
      "source": [
        "days_passed = (pd.to_datetime(filtered_data['date']) - pd.to_datetime(filtered_data['date'].min())).dt.days\n",
        "cumulative_cases = cumulative_data\n",
        "\n",
        "new_data = pd.DataFrame({'days_passed': days_passed, 'cumulative_cases': cumulative_cases})"
      ],
      "metadata": {
        "id": "BZlkCMg9hrgN"
      },
      "execution_count": null,
      "outputs": []
    },
    {
      "cell_type": "code",
      "source": [
        "x_data = days_passed\n",
        "y_data = cumulative_cases\n",
        "\n",
        "\n",
        "params, _ = curve_fit(exponential, x_data, y_data)\n",
        "A, B = params\n",
        "\n",
        "date = '2020-03-20'\n",
        "#days_passed = (pd.to_datetime(date) - pd.to_datetime(data['date'].min())).days\n",
        "predicted_cases = exponential(days_passed, A, B)\n",
        "\n",
        "actual_cases = filtered_data[filtered_data['date'] == date][cumulative_cases].iloc[0]\n",
        "difference = predicted_cases - actual_cases"
      ],
      "metadata": {
        "colab": {
          "base_uri": "https://localhost:8080/",
          "height": 380
        },
        "id": "2h0QMN-LhLJp",
        "outputId": "c835c2f1-3d4a-414d-db12-311659a99f03"
      },
      "execution_count": null,
      "outputs": [
        {
          "output_type": "error",
          "ename": "KeyError",
          "evalue": "ignored",
          "traceback": [
            "\u001b[0;31m---------------------------------------------------------------------------\u001b[0m",
            "\u001b[0;31mKeyError\u001b[0m                                  Traceback (most recent call last)",
            "\u001b[0;32m<ipython-input-160-40cececae3d4>\u001b[0m in \u001b[0;36m<module>\u001b[0;34m\u001b[0m\n\u001b[1;32m     10\u001b[0m \u001b[0mpredicted_cases\u001b[0m \u001b[0;34m=\u001b[0m \u001b[0mexponential\u001b[0m\u001b[0;34m(\u001b[0m\u001b[0mdays_passed\u001b[0m\u001b[0;34m,\u001b[0m \u001b[0mA\u001b[0m\u001b[0;34m,\u001b[0m \u001b[0mB\u001b[0m\u001b[0;34m)\u001b[0m\u001b[0;34m\u001b[0m\u001b[0;34m\u001b[0m\u001b[0m\n\u001b[1;32m     11\u001b[0m \u001b[0;34m\u001b[0m\u001b[0m\n\u001b[0;32m---> 12\u001b[0;31m \u001b[0mactual_cases\u001b[0m \u001b[0;34m=\u001b[0m \u001b[0mfiltered_data\u001b[0m\u001b[0;34m[\u001b[0m\u001b[0mfiltered_data\u001b[0m\u001b[0;34m[\u001b[0m\u001b[0;34m'date'\u001b[0m\u001b[0;34m]\u001b[0m \u001b[0;34m==\u001b[0m \u001b[0mdate\u001b[0m\u001b[0;34m]\u001b[0m\u001b[0;34m[\u001b[0m\u001b[0mcumulative_cases\u001b[0m\u001b[0;34m]\u001b[0m\u001b[0;34m.\u001b[0m\u001b[0miloc\u001b[0m\u001b[0;34m[\u001b[0m\u001b[0;36m0\u001b[0m\u001b[0;34m]\u001b[0m\u001b[0;34m\u001b[0m\u001b[0;34m\u001b[0m\u001b[0m\n\u001b[0m\u001b[1;32m     13\u001b[0m \u001b[0mdifference\u001b[0m \u001b[0;34m=\u001b[0m \u001b[0mpredicted_cases\u001b[0m \u001b[0;34m-\u001b[0m \u001b[0mactual_cases\u001b[0m\u001b[0;34m\u001b[0m\u001b[0;34m\u001b[0m\u001b[0m\n",
            "\u001b[0;32m/usr/local/lib/python3.9/dist-packages/pandas/core/frame.py\u001b[0m in \u001b[0;36m__getitem__\u001b[0;34m(self, key)\u001b[0m\n\u001b[1;32m   3509\u001b[0m             \u001b[0;32mif\u001b[0m \u001b[0mis_iterator\u001b[0m\u001b[0;34m(\u001b[0m\u001b[0mkey\u001b[0m\u001b[0;34m)\u001b[0m\u001b[0;34m:\u001b[0m\u001b[0;34m\u001b[0m\u001b[0;34m\u001b[0m\u001b[0m\n\u001b[1;32m   3510\u001b[0m                 \u001b[0mkey\u001b[0m \u001b[0;34m=\u001b[0m \u001b[0mlist\u001b[0m\u001b[0;34m(\u001b[0m\u001b[0mkey\u001b[0m\u001b[0;34m)\u001b[0m\u001b[0;34m\u001b[0m\u001b[0;34m\u001b[0m\u001b[0m\n\u001b[0;32m-> 3511\u001b[0;31m             \u001b[0mindexer\u001b[0m \u001b[0;34m=\u001b[0m \u001b[0mself\u001b[0m\u001b[0;34m.\u001b[0m\u001b[0mcolumns\u001b[0m\u001b[0;34m.\u001b[0m\u001b[0m_get_indexer_strict\u001b[0m\u001b[0;34m(\u001b[0m\u001b[0mkey\u001b[0m\u001b[0;34m,\u001b[0m \u001b[0;34m\"columns\"\u001b[0m\u001b[0;34m)\u001b[0m\u001b[0;34m[\u001b[0m\u001b[0;36m1\u001b[0m\u001b[0;34m]\u001b[0m\u001b[0;34m\u001b[0m\u001b[0;34m\u001b[0m\u001b[0m\n\u001b[0m\u001b[1;32m   3512\u001b[0m \u001b[0;34m\u001b[0m\u001b[0m\n\u001b[1;32m   3513\u001b[0m         \u001b[0;31m# take() does not accept boolean indexers\u001b[0m\u001b[0;34m\u001b[0m\u001b[0;34m\u001b[0m\u001b[0m\n",
            "\u001b[0;32m/usr/local/lib/python3.9/dist-packages/pandas/core/indexes/base.py\u001b[0m in \u001b[0;36m_get_indexer_strict\u001b[0;34m(self, key, axis_name)\u001b[0m\n\u001b[1;32m   5794\u001b[0m             \u001b[0mkeyarr\u001b[0m\u001b[0;34m,\u001b[0m \u001b[0mindexer\u001b[0m\u001b[0;34m,\u001b[0m \u001b[0mnew_indexer\u001b[0m \u001b[0;34m=\u001b[0m \u001b[0mself\u001b[0m\u001b[0;34m.\u001b[0m\u001b[0m_reindex_non_unique\u001b[0m\u001b[0;34m(\u001b[0m\u001b[0mkeyarr\u001b[0m\u001b[0;34m)\u001b[0m\u001b[0;34m\u001b[0m\u001b[0;34m\u001b[0m\u001b[0m\n\u001b[1;32m   5795\u001b[0m \u001b[0;34m\u001b[0m\u001b[0m\n\u001b[0;32m-> 5796\u001b[0;31m         \u001b[0mself\u001b[0m\u001b[0;34m.\u001b[0m\u001b[0m_raise_if_missing\u001b[0m\u001b[0;34m(\u001b[0m\u001b[0mkeyarr\u001b[0m\u001b[0;34m,\u001b[0m \u001b[0mindexer\u001b[0m\u001b[0;34m,\u001b[0m \u001b[0maxis_name\u001b[0m\u001b[0;34m)\u001b[0m\u001b[0;34m\u001b[0m\u001b[0;34m\u001b[0m\u001b[0m\n\u001b[0m\u001b[1;32m   5797\u001b[0m \u001b[0;34m\u001b[0m\u001b[0m\n\u001b[1;32m   5798\u001b[0m         \u001b[0mkeyarr\u001b[0m \u001b[0;34m=\u001b[0m \u001b[0mself\u001b[0m\u001b[0;34m.\u001b[0m\u001b[0mtake\u001b[0m\u001b[0;34m(\u001b[0m\u001b[0mindexer\u001b[0m\u001b[0;34m)\u001b[0m\u001b[0;34m\u001b[0m\u001b[0;34m\u001b[0m\u001b[0m\n",
            "\u001b[0;32m/usr/local/lib/python3.9/dist-packages/pandas/core/indexes/base.py\u001b[0m in \u001b[0;36m_raise_if_missing\u001b[0;34m(self, key, indexer, axis_name)\u001b[0m\n\u001b[1;32m   5854\u001b[0m                 \u001b[0;32mif\u001b[0m \u001b[0muse_interval_msg\u001b[0m\u001b[0;34m:\u001b[0m\u001b[0;34m\u001b[0m\u001b[0;34m\u001b[0m\u001b[0m\n\u001b[1;32m   5855\u001b[0m                     \u001b[0mkey\u001b[0m \u001b[0;34m=\u001b[0m \u001b[0mlist\u001b[0m\u001b[0;34m(\u001b[0m\u001b[0mkey\u001b[0m\u001b[0;34m)\u001b[0m\u001b[0;34m\u001b[0m\u001b[0;34m\u001b[0m\u001b[0m\n\u001b[0;32m-> 5856\u001b[0;31m                 \u001b[0;32mraise\u001b[0m \u001b[0mKeyError\u001b[0m\u001b[0;34m(\u001b[0m\u001b[0;34mf\"None of [{key}] are in the [{axis_name}]\"\u001b[0m\u001b[0;34m)\u001b[0m\u001b[0;34m\u001b[0m\u001b[0;34m\u001b[0m\u001b[0m\n\u001b[0m\u001b[1;32m   5857\u001b[0m \u001b[0;34m\u001b[0m\u001b[0m\n\u001b[1;32m   5858\u001b[0m             \u001b[0mnot_found\u001b[0m \u001b[0;34m=\u001b[0m \u001b[0mlist\u001b[0m\u001b[0;34m(\u001b[0m\u001b[0mensure_index\u001b[0m\u001b[0;34m(\u001b[0m\u001b[0mkey\u001b[0m\u001b[0;34m)\u001b[0m\u001b[0;34m[\u001b[0m\u001b[0mmissing_mask\u001b[0m\u001b[0;34m.\u001b[0m\u001b[0mnonzero\u001b[0m\u001b[0;34m(\u001b[0m\u001b[0;34m)\u001b[0m\u001b[0;34m[\u001b[0m\u001b[0;36m0\u001b[0m\u001b[0;34m]\u001b[0m\u001b[0;34m]\u001b[0m\u001b[0;34m.\u001b[0m\u001b[0munique\u001b[0m\u001b[0;34m(\u001b[0m\u001b[0;34m)\u001b[0m\u001b[0;34m)\u001b[0m\u001b[0;34m\u001b[0m\u001b[0;34m\u001b[0m\u001b[0m\n",
            "\u001b[0;31mKeyError\u001b[0m: \"None of [Int64Index([  250,   488,   728,  1289,  1636,  2102,  2689,  3458,  4236,\\n             5483,  6975,  8772,  9749, 12062, 14713, 17260, 20757, 23580,\\n            27580, 31106, 35313, 40635],\\n           dtype='int64')] are in the [columns]\""
          ]
        }
      ]
    },
    {
      "cell_type": "code",
      "source": [
        "predicted_cases"
      ],
      "metadata": {
        "colab": {
          "base_uri": "https://localhost:8080/"
        },
        "id": "MThuokINi0Tw",
        "outputId": "b21ea7e2-ba7b-4de3-c56e-ee27cad7fc31"
      },
      "execution_count": null,
      "outputs": [
        {
          "output_type": "execute_result",
          "data": {
            "text/plain": [
              "10747     1473.738636\n",
              "10748     1729.290844\n",
              "10749     2029.156833\n",
              "10750     2381.020791\n",
              "10751     2793.899374\n",
              "10752     3278.372764\n",
              "10753     3846.855790\n",
              "10754     4513.916058\n",
              "10755     5296.647261\n",
              "10756     6215.107203\n",
              "10757     7292.831793\n",
              "10758     8557.438163\n",
              "10759    10041.332365\n",
              "10760    11782.539790\n",
              "10761    13825.679587\n",
              "10762    16223.108044\n",
              "10763    19036.260240\n",
              "10764    22337.224343\n",
              "10765    26210.588900\n",
              "10766    30755.610453\n",
              "10767    36088.757026\n",
              "10768    42346.692669\n",
              "Name: date, dtype: float64"
            ]
          },
          "metadata": {},
          "execution_count": 161
        }
      ]
    },
    {
      "cell_type": "code",
      "source": [
        "cumulative_data"
      ],
      "metadata": {
        "colab": {
          "base_uri": "https://localhost:8080/"
        },
        "id": "Uaz0Ku8FjTnZ",
        "outputId": "508a8079-e7f8-4d5d-8652-b66ae0e9e9e4"
      },
      "execution_count": null,
      "outputs": [
        {
          "output_type": "execute_result",
          "data": {
            "text/plain": [
              "date\n",
              "2020-02-28      250\n",
              "2020-02-29      488\n",
              "2020-03-01      728\n",
              "2020-03-02     1289\n",
              "2020-03-03     1636\n",
              "2020-03-04     2102\n",
              "2020-03-05     2689\n",
              "2020-03-06     3458\n",
              "2020-03-07     4236\n",
              "2020-03-08     5483\n",
              "2020-03-09     6975\n",
              "2020-03-10     8772\n",
              "2020-03-11     9749\n",
              "2020-03-12    12062\n",
              "2020-03-13    14713\n",
              "2020-03-14    17260\n",
              "2020-03-15    20757\n",
              "2020-03-16    23580\n",
              "2020-03-17    27580\n",
              "2020-03-18    31106\n",
              "2020-03-19    35313\n",
              "2020-03-20    40635\n",
              "Name: new_cases, dtype: int64"
            ]
          },
          "metadata": {},
          "execution_count": 162
        }
      ]
    },
    {
      "cell_type": "code",
      "source": [
        "42346.692669-40635"
      ],
      "metadata": {
        "colab": {
          "base_uri": "https://localhost:8080/"
        },
        "id": "GqZ7b_CzjXJt",
        "outputId": "5ab28f1b-4cb2-4d87-eece-8d53b68c8c33"
      },
      "execution_count": null,
      "outputs": [
        {
          "output_type": "execute_result",
          "data": {
            "text/plain": [
              "1711.6926689999964"
            ]
          },
          "metadata": {},
          "execution_count": 163
        }
      ]
    },
    {
      "cell_type": "code",
      "source": [
        "cumulative_data = covid_data.groupby('location')['new_deaths'].sum().cumsum()\n",
        "cumulative_data"
      ],
      "metadata": {
        "colab": {
          "base_uri": "https://localhost:8080/"
        },
        "id": "fIU9oa_EjarH",
        "outputId": "d2cd720d-dfd7-4035-f3ac-9a0bceb0e816"
      },
      "execution_count": null,
      "outputs": [
        {
          "output_type": "execute_result",
          "data": {
            "text/plain": [
              "location\n",
              "Afghanistan          384\n",
              "Albania              418\n",
              "Algeria             1142\n",
              "Andorra             1193\n",
              "Angola              1197\n",
              "                   ...  \n",
              "Western Sahara    411054\n",
              "World             822249\n",
              "Yemen             822376\n",
              "Zambia            822386\n",
              "Zimbabwe          822390\n",
              "Name: new_deaths, Length: 212, dtype: int64"
            ]
          },
          "metadata": {},
          "execution_count": 164
        }
      ]
    },
    {
      "cell_type": "code",
      "source": [
        "covid_data['death_rate'] = covid_data['new_deaths'].sum() / covid_data['population'] * 1000000\n",
        "\n",
        "# Sort the DataFrame by death rate in descending order\n",
        "covid_data = covid_data.sort_values(by='death_rate', ascending=False)\n",
        "\n",
        "# Select the country with the 3rd highest death rate\n",
        "country = covid_data.iloc[2]['location']"
      ],
      "metadata": {
        "id": "gp4qLlPljvo-"
      },
      "execution_count": null,
      "outputs": []
    },
    {
      "cell_type": "code",
      "source": [
        "covid_data = pd.read_csv('./data/covid_data.csv')"
      ],
      "metadata": {
        "id": "rfcxN5nrlIgJ"
      },
      "execution_count": null,
      "outputs": []
    },
    {
      "cell_type": "code",
      "source": [
        "country"
      ],
      "metadata": {
        "colab": {
          "base_uri": "https://localhost:8080/",
          "height": 35
        },
        "id": "mGCLWf2IlP1o",
        "outputId": "321c71f6-4537-4c1b-a58c-4cdba3f7447d"
      },
      "execution_count": null,
      "outputs": [
        {
          "output_type": "execute_result",
          "data": {
            "text/plain": [
              "'Vatican'"
            ],
            "application/vnd.google.colaboratory.intrinsic+json": {
              "type": "string"
            }
          },
          "metadata": {},
          "execution_count": 171
        }
      ]
    },
    {
      "cell_type": "code",
      "source": [
        "covid_data['location'].unique()"
      ],
      "metadata": {
        "colab": {
          "base_uri": "https://localhost:8080/"
        },
        "id": "hx9hqKOwlcgE",
        "outputId": "0991d737-edc6-42ca-a230-f885b8a70cf4"
      },
      "execution_count": null,
      "outputs": [
        {
          "output_type": "execute_result",
          "data": {
            "text/plain": [
              "array(['Vatican', 'Falkland Islands', 'Montserrat', 'Anguilla',\n",
              "       'Bonaire Sint Eustatius and Saba', 'British Virgin Islands',\n",
              "       'Gibraltar', 'San Marino', 'Liechtenstein',\n",
              "       'Turks and Caicos Islands', 'Monaco', 'Sint Maarten (Dutch part)',\n",
              "       'Faeroe Islands', 'Saint Kitts and Nevis', 'Greenland',\n",
              "       'Northern Mariana Islands', 'Bermuda', 'Cayman Islands',\n",
              "       'Guernsey', 'Dominica', 'Andorra', 'Isle of Man',\n",
              "       'Antigua and Barbuda', 'Seychelles', 'Jersey',\n",
              "       'United States Virgin Islands', 'Aruba',\n",
              "       'Saint Vincent and the Grenadines', 'Grenada', 'Curacao', 'Guam',\n",
              "       'Saint Lucia', 'Sao Tome and Principe', 'French Polynesia',\n",
              "       'New Caledonia', 'Barbados', 'Iceland', 'Bahamas', 'Belize',\n",
              "       'Brunei', 'Malta', 'Maldives', 'Cape Verde', 'Suriname',\n",
              "       'Western Sahara', 'Luxembourg', 'Montenegro', 'Bhutan', 'Guyana',\n",
              "       'Comoros', 'Cyprus', 'Fiji', 'Djibouti', 'Swaziland', 'Mauritius',\n",
              "       'Timor', 'Estonia', 'Trinidad and Tobago', 'Equatorial Guinea',\n",
              "       'Bahrain', 'Latvia', 'Kosovo', 'Guinea-Bissau', 'Slovenia',\n",
              "       'Macedonia', 'Lesotho', 'Gabon', 'Botswana', 'Gambia', 'Namibia',\n",
              "       'Lithuania', 'Puerto Rico', 'Albania', 'Qatar', 'Jamaica',\n",
              "       'Armenia', 'Mongolia', 'Bosnia and Herzegovina', 'Uruguay',\n",
              "       'Eritrea', 'Georgia', 'Moldova', 'Croatia', 'Kuwait', 'Panama',\n",
              "       'Mauritania', 'New Zealand', 'Central African Republic', 'Ireland',\n",
              "       'Liberia', 'Costa Rica', 'Palestine', 'Oman', 'Norway', 'Slovakia',\n",
              "       'Congo', 'Finland', 'Denmark', 'Singapore', 'El Salvador',\n",
              "       'Kyrgyzstan', 'Nicaragua', 'Serbia', 'Lebanon', 'Libya',\n",
              "       'Bulgaria', 'Paraguay', 'Laos', 'Hong Kong', 'Sierra Leone',\n",
              "       'Togo', 'Switzerland', 'Israel', 'Papua New Guinea', 'Austria',\n",
              "       'Belarus', 'Tajikistan', 'Hungary', 'United Arab Emirates',\n",
              "       'Honduras', 'Sweden', 'Azerbaijan', 'Portugal', 'Jordan', 'Greece',\n",
              "       'Czech Republic', 'Dominican Republic', 'South Sudan', 'Cuba',\n",
              "       'Haiti', 'Belgium', 'Bolivia', 'Tunisia', 'Burundi', 'Benin',\n",
              "       'Rwanda', 'Guinea', 'Zimbabwe', 'Somalia', 'Chad', 'Cambodia',\n",
              "       'Senegal', 'Netherlands', 'Syria', 'Ecuador', 'Guatemala',\n",
              "       'Zambia', 'Kazakhstan', 'Chile', 'Malawi', 'Romania', 'Mali',\n",
              "       'Burkina Faso', 'Sri Lanka', 'Taiwan', 'Niger', 'Australia',\n",
              "       \"Cote d'Ivoire\", 'Cameroon', 'Madagascar', 'Venezuela', 'Nepal',\n",
              "       'Yemen', 'Ghana', 'Mozambique', 'Malaysia', 'Angola', 'Peru',\n",
              "       'Uzbekistan', 'Saudi Arabia', 'Morocco', 'Canada', 'Poland',\n",
              "       'Afghanistan', 'Iraq', 'Ukraine', 'Sudan', 'Algeria', 'Argentina',\n",
              "       'Uganda', 'Spain', 'Colombia', 'South Korea', 'Kenya', 'Myanmar',\n",
              "       'South Africa', 'Tanzania', 'Italy', 'France', 'United Kingdom',\n",
              "       'Thailand', 'Germany', 'Iran', 'Turkey',\n",
              "       'Democratic Republic of Congo', 'Vietnam', 'Egypt', 'Philippines',\n",
              "       'Ethiopia', 'Japan', 'Mexico', 'Russia', 'Bangladesh', 'Nigeria',\n",
              "       'Brazil', 'Pakistan', 'Indonesia', 'United States', 'India',\n",
              "       'China', 'World', 'International'], dtype=object)"
            ]
          },
          "metadata": {},
          "execution_count": 180
        }
      ]
    },
    {
      "cell_type": "code",
      "source": [
        "condition = covid_data['location'].notnull() & covid_data['date'].notnull() & covid_data['new_cases'].notnull() & covid_data['new_deaths'].notnull() & covid_data['population'].notnull() & covid_data['aged_65_older_percent'].notnull() & covid_data['gdp_per_capita'].notnull() & covid_data['hospital_beds_per_thousand'].notnull()\n",
        "df_proper = covid_data[condition]"
      ],
      "metadata": {
        "id": "_ONld6VXlgUd"
      },
      "execution_count": null,
      "outputs": []
    },
    {
      "cell_type": "code",
      "source": [
        "covid_data"
      ],
      "metadata": {
        "colab": {
          "base_uri": "https://localhost:8080/",
          "height": 424
        },
        "id": "at8PgkLdm3bf",
        "outputId": "78f463fa-207e-4832-88df-f8a761acd296"
      },
      "execution_count": null,
      "outputs": [
        {
          "output_type": "execute_result",
          "data": {
            "text/plain": [
              "            location        date  new_cases  new_deaths  population  \\\n",
              "0        Afghanistan  2019-12-31          0           0  38928341.0   \n",
              "1        Afghanistan  2020-01-01          0           0  38928341.0   \n",
              "2        Afghanistan  2020-01-02          0           0  38928341.0   \n",
              "3        Afghanistan  2020-01-03          0           0  38928341.0   \n",
              "4        Afghanistan  2020-01-04          0           0  38928341.0   \n",
              "...              ...         ...        ...         ...         ...   \n",
              "23077  International  2020-02-28          0           0         NaN   \n",
              "23078  International  2020-02-29          0           2         NaN   \n",
              "23079  International  2020-03-01          0           0         NaN   \n",
              "23080  International  2020-03-02          0           0         NaN   \n",
              "23081  International  2020-03-10         -9           1         NaN   \n",
              "\n",
              "       aged_65_older_percent  gdp_per_capita  hospital_beds_per_thousand  \n",
              "0                      2.581        1803.987                         0.5  \n",
              "1                      2.581        1803.987                         0.5  \n",
              "2                      2.581        1803.987                         0.5  \n",
              "3                      2.581        1803.987                         0.5  \n",
              "4                      2.581        1803.987                         0.5  \n",
              "...                      ...             ...                         ...  \n",
              "23077                    NaN             NaN                         NaN  \n",
              "23078                    NaN             NaN                         NaN  \n",
              "23079                    NaN             NaN                         NaN  \n",
              "23080                    NaN             NaN                         NaN  \n",
              "23081                    NaN             NaN                         NaN  \n",
              "\n",
              "[23082 rows x 8 columns]"
            ],
            "text/html": [
              "\n",
              "  <div id=\"df-741be589-f58c-48ec-a7b4-9599fdde43d6\">\n",
              "    <div class=\"colab-df-container\">\n",
              "      <div>\n",
              "<style scoped>\n",
              "    .dataframe tbody tr th:only-of-type {\n",
              "        vertical-align: middle;\n",
              "    }\n",
              "\n",
              "    .dataframe tbody tr th {\n",
              "        vertical-align: top;\n",
              "    }\n",
              "\n",
              "    .dataframe thead th {\n",
              "        text-align: right;\n",
              "    }\n",
              "</style>\n",
              "<table border=\"1\" class=\"dataframe\">\n",
              "  <thead>\n",
              "    <tr style=\"text-align: right;\">\n",
              "      <th></th>\n",
              "      <th>location</th>\n",
              "      <th>date</th>\n",
              "      <th>new_cases</th>\n",
              "      <th>new_deaths</th>\n",
              "      <th>population</th>\n",
              "      <th>aged_65_older_percent</th>\n",
              "      <th>gdp_per_capita</th>\n",
              "      <th>hospital_beds_per_thousand</th>\n",
              "    </tr>\n",
              "  </thead>\n",
              "  <tbody>\n",
              "    <tr>\n",
              "      <th>0</th>\n",
              "      <td>Afghanistan</td>\n",
              "      <td>2019-12-31</td>\n",
              "      <td>0</td>\n",
              "      <td>0</td>\n",
              "      <td>38928341.0</td>\n",
              "      <td>2.581</td>\n",
              "      <td>1803.987</td>\n",
              "      <td>0.5</td>\n",
              "    </tr>\n",
              "    <tr>\n",
              "      <th>1</th>\n",
              "      <td>Afghanistan</td>\n",
              "      <td>2020-01-01</td>\n",
              "      <td>0</td>\n",
              "      <td>0</td>\n",
              "      <td>38928341.0</td>\n",
              "      <td>2.581</td>\n",
              "      <td>1803.987</td>\n",
              "      <td>0.5</td>\n",
              "    </tr>\n",
              "    <tr>\n",
              "      <th>2</th>\n",
              "      <td>Afghanistan</td>\n",
              "      <td>2020-01-02</td>\n",
              "      <td>0</td>\n",
              "      <td>0</td>\n",
              "      <td>38928341.0</td>\n",
              "      <td>2.581</td>\n",
              "      <td>1803.987</td>\n",
              "      <td>0.5</td>\n",
              "    </tr>\n",
              "    <tr>\n",
              "      <th>3</th>\n",
              "      <td>Afghanistan</td>\n",
              "      <td>2020-01-03</td>\n",
              "      <td>0</td>\n",
              "      <td>0</td>\n",
              "      <td>38928341.0</td>\n",
              "      <td>2.581</td>\n",
              "      <td>1803.987</td>\n",
              "      <td>0.5</td>\n",
              "    </tr>\n",
              "    <tr>\n",
              "      <th>4</th>\n",
              "      <td>Afghanistan</td>\n",
              "      <td>2020-01-04</td>\n",
              "      <td>0</td>\n",
              "      <td>0</td>\n",
              "      <td>38928341.0</td>\n",
              "      <td>2.581</td>\n",
              "      <td>1803.987</td>\n",
              "      <td>0.5</td>\n",
              "    </tr>\n",
              "    <tr>\n",
              "      <th>...</th>\n",
              "      <td>...</td>\n",
              "      <td>...</td>\n",
              "      <td>...</td>\n",
              "      <td>...</td>\n",
              "      <td>...</td>\n",
              "      <td>...</td>\n",
              "      <td>...</td>\n",
              "      <td>...</td>\n",
              "    </tr>\n",
              "    <tr>\n",
              "      <th>23077</th>\n",
              "      <td>International</td>\n",
              "      <td>2020-02-28</td>\n",
              "      <td>0</td>\n",
              "      <td>0</td>\n",
              "      <td>NaN</td>\n",
              "      <td>NaN</td>\n",
              "      <td>NaN</td>\n",
              "      <td>NaN</td>\n",
              "    </tr>\n",
              "    <tr>\n",
              "      <th>23078</th>\n",
              "      <td>International</td>\n",
              "      <td>2020-02-29</td>\n",
              "      <td>0</td>\n",
              "      <td>2</td>\n",
              "      <td>NaN</td>\n",
              "      <td>NaN</td>\n",
              "      <td>NaN</td>\n",
              "      <td>NaN</td>\n",
              "    </tr>\n",
              "    <tr>\n",
              "      <th>23079</th>\n",
              "      <td>International</td>\n",
              "      <td>2020-03-01</td>\n",
              "      <td>0</td>\n",
              "      <td>0</td>\n",
              "      <td>NaN</td>\n",
              "      <td>NaN</td>\n",
              "      <td>NaN</td>\n",
              "      <td>NaN</td>\n",
              "    </tr>\n",
              "    <tr>\n",
              "      <th>23080</th>\n",
              "      <td>International</td>\n",
              "      <td>2020-03-02</td>\n",
              "      <td>0</td>\n",
              "      <td>0</td>\n",
              "      <td>NaN</td>\n",
              "      <td>NaN</td>\n",
              "      <td>NaN</td>\n",
              "      <td>NaN</td>\n",
              "    </tr>\n",
              "    <tr>\n",
              "      <th>23081</th>\n",
              "      <td>International</td>\n",
              "      <td>2020-03-10</td>\n",
              "      <td>-9</td>\n",
              "      <td>1</td>\n",
              "      <td>NaN</td>\n",
              "      <td>NaN</td>\n",
              "      <td>NaN</td>\n",
              "      <td>NaN</td>\n",
              "    </tr>\n",
              "  </tbody>\n",
              "</table>\n",
              "<p>23082 rows × 8 columns</p>\n",
              "</div>\n",
              "      <button class=\"colab-df-convert\" onclick=\"convertToInteractive('df-741be589-f58c-48ec-a7b4-9599fdde43d6')\"\n",
              "              title=\"Convert this dataframe to an interactive table.\"\n",
              "              style=\"display:none;\">\n",
              "        \n",
              "  <svg xmlns=\"http://www.w3.org/2000/svg\" height=\"24px\"viewBox=\"0 0 24 24\"\n",
              "       width=\"24px\">\n",
              "    <path d=\"M0 0h24v24H0V0z\" fill=\"none\"/>\n",
              "    <path d=\"M18.56 5.44l.94 2.06.94-2.06 2.06-.94-2.06-.94-.94-2.06-.94 2.06-2.06.94zm-11 1L8.5 8.5l.94-2.06 2.06-.94-2.06-.94L8.5 2.5l-.94 2.06-2.06.94zm10 10l.94 2.06.94-2.06 2.06-.94-2.06-.94-.94-2.06-.94 2.06-2.06.94z\"/><path d=\"M17.41 7.96l-1.37-1.37c-.4-.4-.92-.59-1.43-.59-.52 0-1.04.2-1.43.59L10.3 9.45l-7.72 7.72c-.78.78-.78 2.05 0 2.83L4 21.41c.39.39.9.59 1.41.59.51 0 1.02-.2 1.41-.59l7.78-7.78 2.81-2.81c.8-.78.8-2.07 0-2.86zM5.41 20L4 18.59l7.72-7.72 1.47 1.35L5.41 20z\"/>\n",
              "  </svg>\n",
              "      </button>\n",
              "      \n",
              "  <style>\n",
              "    .colab-df-container {\n",
              "      display:flex;\n",
              "      flex-wrap:wrap;\n",
              "      gap: 12px;\n",
              "    }\n",
              "\n",
              "    .colab-df-convert {\n",
              "      background-color: #E8F0FE;\n",
              "      border: none;\n",
              "      border-radius: 50%;\n",
              "      cursor: pointer;\n",
              "      display: none;\n",
              "      fill: #1967D2;\n",
              "      height: 32px;\n",
              "      padding: 0 0 0 0;\n",
              "      width: 32px;\n",
              "    }\n",
              "\n",
              "    .colab-df-convert:hover {\n",
              "      background-color: #E2EBFA;\n",
              "      box-shadow: 0px 1px 2px rgba(60, 64, 67, 0.3), 0px 1px 3px 1px rgba(60, 64, 67, 0.15);\n",
              "      fill: #174EA6;\n",
              "    }\n",
              "\n",
              "    [theme=dark] .colab-df-convert {\n",
              "      background-color: #3B4455;\n",
              "      fill: #D2E3FC;\n",
              "    }\n",
              "\n",
              "    [theme=dark] .colab-df-convert:hover {\n",
              "      background-color: #434B5C;\n",
              "      box-shadow: 0px 1px 3px 1px rgba(0, 0, 0, 0.15);\n",
              "      filter: drop-shadow(0px 1px 2px rgba(0, 0, 0, 0.3));\n",
              "      fill: #FFFFFF;\n",
              "    }\n",
              "  </style>\n",
              "\n",
              "      <script>\n",
              "        const buttonEl =\n",
              "          document.querySelector('#df-741be589-f58c-48ec-a7b4-9599fdde43d6 button.colab-df-convert');\n",
              "        buttonEl.style.display =\n",
              "          google.colab.kernel.accessAllowed ? 'block' : 'none';\n",
              "\n",
              "        async function convertToInteractive(key) {\n",
              "          const element = document.querySelector('#df-741be589-f58c-48ec-a7b4-9599fdde43d6');\n",
              "          const dataTable =\n",
              "            await google.colab.kernel.invokeFunction('convertToInteractive',\n",
              "                                                     [key], {});\n",
              "          if (!dataTable) return;\n",
              "\n",
              "          const docLinkHtml = 'Like what you see? Visit the ' +\n",
              "            '<a target=\"_blank\" href=https://colab.research.google.com/notebooks/data_table.ipynb>data table notebook</a>'\n",
              "            + ' to learn more about interactive tables.';\n",
              "          element.innerHTML = '';\n",
              "          dataTable['output_type'] = 'display_data';\n",
              "          await google.colab.output.renderOutput(dataTable, element);\n",
              "          const docLink = document.createElement('div');\n",
              "          docLink.innerHTML = docLinkHtml;\n",
              "          element.appendChild(docLink);\n",
              "        }\n",
              "      </script>\n",
              "    </div>\n",
              "  </div>\n",
              "  "
            ]
          },
          "metadata": {},
          "execution_count": 183
        }
      ]
    },
    {
      "cell_type": "code",
      "source": [
        "df_proper"
      ],
      "metadata": {
        "colab": {
          "base_uri": "https://localhost:8080/",
          "height": 424
        },
        "id": "GESU-irxm6dy",
        "outputId": "973bcd4a-03ee-4685-db11-9a822ab3123c"
      },
      "execution_count": null,
      "outputs": [
        {
          "output_type": "execute_result",
          "data": {
            "text/plain": [
              "          location        date  new_cases  new_deaths    population  \\\n",
              "0      Afghanistan  2019-12-31          0           0  3.892834e+07   \n",
              "1      Afghanistan  2020-01-01          0           0  3.892834e+07   \n",
              "2      Afghanistan  2020-01-02          0           0  3.892834e+07   \n",
              "3      Afghanistan  2020-01-03          0           0  3.892834e+07   \n",
              "4      Afghanistan  2020-01-04          0           0  3.892834e+07   \n",
              "...            ...         ...        ...         ...           ...   \n",
              "23013        World  2020-06-06     133510        4784  7.794799e+09   \n",
              "23014        World  2020-06-07     125862        3822  7.794799e+09   \n",
              "23015        World  2020-06-08     116318        3504  7.794799e+09   \n",
              "23016        World  2020-06-09     105851        3230  7.794799e+09   \n",
              "23017        World  2020-06-10     125281        4929  7.794799e+09   \n",
              "\n",
              "       aged_65_older_percent  gdp_per_capita  hospital_beds_per_thousand  \n",
              "0                      2.581        1803.987                       0.500  \n",
              "1                      2.581        1803.987                       0.500  \n",
              "2                      2.581        1803.987                       0.500  \n",
              "3                      2.581        1803.987                       0.500  \n",
              "4                      2.581        1803.987                       0.500  \n",
              "...                      ...             ...                         ...  \n",
              "23013                  8.696       15469.207                       2.705  \n",
              "23014                  8.696       15469.207                       2.705  \n",
              "23015                  8.696       15469.207                       2.705  \n",
              "23016                  8.696       15469.207                       2.705  \n",
              "23017                  8.696       15469.207                       2.705  \n",
              "\n",
              "[18328 rows x 8 columns]"
            ],
            "text/html": [
              "\n",
              "  <div id=\"df-ce30ea64-9a73-4a62-b79f-c33d0b66ec93\">\n",
              "    <div class=\"colab-df-container\">\n",
              "      <div>\n",
              "<style scoped>\n",
              "    .dataframe tbody tr th:only-of-type {\n",
              "        vertical-align: middle;\n",
              "    }\n",
              "\n",
              "    .dataframe tbody tr th {\n",
              "        vertical-align: top;\n",
              "    }\n",
              "\n",
              "    .dataframe thead th {\n",
              "        text-align: right;\n",
              "    }\n",
              "</style>\n",
              "<table border=\"1\" class=\"dataframe\">\n",
              "  <thead>\n",
              "    <tr style=\"text-align: right;\">\n",
              "      <th></th>\n",
              "      <th>location</th>\n",
              "      <th>date</th>\n",
              "      <th>new_cases</th>\n",
              "      <th>new_deaths</th>\n",
              "      <th>population</th>\n",
              "      <th>aged_65_older_percent</th>\n",
              "      <th>gdp_per_capita</th>\n",
              "      <th>hospital_beds_per_thousand</th>\n",
              "    </tr>\n",
              "  </thead>\n",
              "  <tbody>\n",
              "    <tr>\n",
              "      <th>0</th>\n",
              "      <td>Afghanistan</td>\n",
              "      <td>2019-12-31</td>\n",
              "      <td>0</td>\n",
              "      <td>0</td>\n",
              "      <td>3.892834e+07</td>\n",
              "      <td>2.581</td>\n",
              "      <td>1803.987</td>\n",
              "      <td>0.500</td>\n",
              "    </tr>\n",
              "    <tr>\n",
              "      <th>1</th>\n",
              "      <td>Afghanistan</td>\n",
              "      <td>2020-01-01</td>\n",
              "      <td>0</td>\n",
              "      <td>0</td>\n",
              "      <td>3.892834e+07</td>\n",
              "      <td>2.581</td>\n",
              "      <td>1803.987</td>\n",
              "      <td>0.500</td>\n",
              "    </tr>\n",
              "    <tr>\n",
              "      <th>2</th>\n",
              "      <td>Afghanistan</td>\n",
              "      <td>2020-01-02</td>\n",
              "      <td>0</td>\n",
              "      <td>0</td>\n",
              "      <td>3.892834e+07</td>\n",
              "      <td>2.581</td>\n",
              "      <td>1803.987</td>\n",
              "      <td>0.500</td>\n",
              "    </tr>\n",
              "    <tr>\n",
              "      <th>3</th>\n",
              "      <td>Afghanistan</td>\n",
              "      <td>2020-01-03</td>\n",
              "      <td>0</td>\n",
              "      <td>0</td>\n",
              "      <td>3.892834e+07</td>\n",
              "      <td>2.581</td>\n",
              "      <td>1803.987</td>\n",
              "      <td>0.500</td>\n",
              "    </tr>\n",
              "    <tr>\n",
              "      <th>4</th>\n",
              "      <td>Afghanistan</td>\n",
              "      <td>2020-01-04</td>\n",
              "      <td>0</td>\n",
              "      <td>0</td>\n",
              "      <td>3.892834e+07</td>\n",
              "      <td>2.581</td>\n",
              "      <td>1803.987</td>\n",
              "      <td>0.500</td>\n",
              "    </tr>\n",
              "    <tr>\n",
              "      <th>...</th>\n",
              "      <td>...</td>\n",
              "      <td>...</td>\n",
              "      <td>...</td>\n",
              "      <td>...</td>\n",
              "      <td>...</td>\n",
              "      <td>...</td>\n",
              "      <td>...</td>\n",
              "      <td>...</td>\n",
              "    </tr>\n",
              "    <tr>\n",
              "      <th>23013</th>\n",
              "      <td>World</td>\n",
              "      <td>2020-06-06</td>\n",
              "      <td>133510</td>\n",
              "      <td>4784</td>\n",
              "      <td>7.794799e+09</td>\n",
              "      <td>8.696</td>\n",
              "      <td>15469.207</td>\n",
              "      <td>2.705</td>\n",
              "    </tr>\n",
              "    <tr>\n",
              "      <th>23014</th>\n",
              "      <td>World</td>\n",
              "      <td>2020-06-07</td>\n",
              "      <td>125862</td>\n",
              "      <td>3822</td>\n",
              "      <td>7.794799e+09</td>\n",
              "      <td>8.696</td>\n",
              "      <td>15469.207</td>\n",
              "      <td>2.705</td>\n",
              "    </tr>\n",
              "    <tr>\n",
              "      <th>23015</th>\n",
              "      <td>World</td>\n",
              "      <td>2020-06-08</td>\n",
              "      <td>116318</td>\n",
              "      <td>3504</td>\n",
              "      <td>7.794799e+09</td>\n",
              "      <td>8.696</td>\n",
              "      <td>15469.207</td>\n",
              "      <td>2.705</td>\n",
              "    </tr>\n",
              "    <tr>\n",
              "      <th>23016</th>\n",
              "      <td>World</td>\n",
              "      <td>2020-06-09</td>\n",
              "      <td>105851</td>\n",
              "      <td>3230</td>\n",
              "      <td>7.794799e+09</td>\n",
              "      <td>8.696</td>\n",
              "      <td>15469.207</td>\n",
              "      <td>2.705</td>\n",
              "    </tr>\n",
              "    <tr>\n",
              "      <th>23017</th>\n",
              "      <td>World</td>\n",
              "      <td>2020-06-10</td>\n",
              "      <td>125281</td>\n",
              "      <td>4929</td>\n",
              "      <td>7.794799e+09</td>\n",
              "      <td>8.696</td>\n",
              "      <td>15469.207</td>\n",
              "      <td>2.705</td>\n",
              "    </tr>\n",
              "  </tbody>\n",
              "</table>\n",
              "<p>18328 rows × 8 columns</p>\n",
              "</div>\n",
              "      <button class=\"colab-df-convert\" onclick=\"convertToInteractive('df-ce30ea64-9a73-4a62-b79f-c33d0b66ec93')\"\n",
              "              title=\"Convert this dataframe to an interactive table.\"\n",
              "              style=\"display:none;\">\n",
              "        \n",
              "  <svg xmlns=\"http://www.w3.org/2000/svg\" height=\"24px\"viewBox=\"0 0 24 24\"\n",
              "       width=\"24px\">\n",
              "    <path d=\"M0 0h24v24H0V0z\" fill=\"none\"/>\n",
              "    <path d=\"M18.56 5.44l.94 2.06.94-2.06 2.06-.94-2.06-.94-.94-2.06-.94 2.06-2.06.94zm-11 1L8.5 8.5l.94-2.06 2.06-.94-2.06-.94L8.5 2.5l-.94 2.06-2.06.94zm10 10l.94 2.06.94-2.06 2.06-.94-2.06-.94-.94-2.06-.94 2.06-2.06.94z\"/><path d=\"M17.41 7.96l-1.37-1.37c-.4-.4-.92-.59-1.43-.59-.52 0-1.04.2-1.43.59L10.3 9.45l-7.72 7.72c-.78.78-.78 2.05 0 2.83L4 21.41c.39.39.9.59 1.41.59.51 0 1.02-.2 1.41-.59l7.78-7.78 2.81-2.81c.8-.78.8-2.07 0-2.86zM5.41 20L4 18.59l7.72-7.72 1.47 1.35L5.41 20z\"/>\n",
              "  </svg>\n",
              "      </button>\n",
              "      \n",
              "  <style>\n",
              "    .colab-df-container {\n",
              "      display:flex;\n",
              "      flex-wrap:wrap;\n",
              "      gap: 12px;\n",
              "    }\n",
              "\n",
              "    .colab-df-convert {\n",
              "      background-color: #E8F0FE;\n",
              "      border: none;\n",
              "      border-radius: 50%;\n",
              "      cursor: pointer;\n",
              "      display: none;\n",
              "      fill: #1967D2;\n",
              "      height: 32px;\n",
              "      padding: 0 0 0 0;\n",
              "      width: 32px;\n",
              "    }\n",
              "\n",
              "    .colab-df-convert:hover {\n",
              "      background-color: #E2EBFA;\n",
              "      box-shadow: 0px 1px 2px rgba(60, 64, 67, 0.3), 0px 1px 3px 1px rgba(60, 64, 67, 0.15);\n",
              "      fill: #174EA6;\n",
              "    }\n",
              "\n",
              "    [theme=dark] .colab-df-convert {\n",
              "      background-color: #3B4455;\n",
              "      fill: #D2E3FC;\n",
              "    }\n",
              "\n",
              "    [theme=dark] .colab-df-convert:hover {\n",
              "      background-color: #434B5C;\n",
              "      box-shadow: 0px 1px 3px 1px rgba(0, 0, 0, 0.15);\n",
              "      filter: drop-shadow(0px 1px 2px rgba(0, 0, 0, 0.3));\n",
              "      fill: #FFFFFF;\n",
              "    }\n",
              "  </style>\n",
              "\n",
              "      <script>\n",
              "        const buttonEl =\n",
              "          document.querySelector('#df-ce30ea64-9a73-4a62-b79f-c33d0b66ec93 button.colab-df-convert');\n",
              "        buttonEl.style.display =\n",
              "          google.colab.kernel.accessAllowed ? 'block' : 'none';\n",
              "\n",
              "        async function convertToInteractive(key) {\n",
              "          const element = document.querySelector('#df-ce30ea64-9a73-4a62-b79f-c33d0b66ec93');\n",
              "          const dataTable =\n",
              "            await google.colab.kernel.invokeFunction('convertToInteractive',\n",
              "                                                     [key], {});\n",
              "          if (!dataTable) return;\n",
              "\n",
              "          const docLinkHtml = 'Like what you see? Visit the ' +\n",
              "            '<a target=\"_blank\" href=https://colab.research.google.com/notebooks/data_table.ipynb>data table notebook</a>'\n",
              "            + ' to learn more about interactive tables.';\n",
              "          element.innerHTML = '';\n",
              "          dataTable['output_type'] = 'display_data';\n",
              "          await google.colab.output.renderOutput(dataTable, element);\n",
              "          const docLink = document.createElement('div');\n",
              "          docLink.innerHTML = docLinkHtml;\n",
              "          element.appendChild(docLink);\n",
              "        }\n",
              "      </script>\n",
              "    </div>\n",
              "  </div>\n",
              "  "
            ]
          },
          "metadata": {},
          "execution_count": 186
        }
      ]
    },
    {
      "cell_type": "code",
      "source": [
        "df_proper['death_rate'] = df_proper['new_deaths'].sum() / df_proper['population'] * 1000000\n",
        "\n",
        "condition1 = df_proper['aged_65_older_percent'] >= 20\n",
        "condition2 = df_proper['death_rate'] > 50\n",
        "\n",
        "# Filter rows based on the conditions into a new DataFrame\n",
        "df_filtered = df_proper[condition1 & condition2]\n",
        "df_filtered"
      ],
      "metadata": {
        "colab": {
          "base_uri": "https://localhost:8080/",
          "height": 528
        },
        "id": "oTHkXExKnZLx",
        "outputId": "4c520649-777e-4a9c-dc37-06e07f1c037f"
      },
      "execution_count": null,
      "outputs": [
        {
          "output_type": "stream",
          "name": "stderr",
          "text": [
            "<ipython-input-187-12f1c5f0ae7c>:1: SettingWithCopyWarning: \n",
            "A value is trying to be set on a copy of a slice from a DataFrame.\n",
            "Try using .loc[row_indexer,col_indexer] = value instead\n",
            "\n",
            "See the caveats in the documentation: https://pandas.pydata.org/pandas-docs/stable/user_guide/indexing.html#returning-a-view-versus-a-copy\n",
            "  df_proper['death_rate'] = df_proper['new_deaths'].sum() / df_proper['population'] * 1000000\n"
          ]
        },
        {
          "output_type": "execute_result",
          "data": {
            "text/plain": [
              "       location        date  new_cases  new_deaths  population  \\\n",
              "3293   Bulgaria  2020-03-08          2           0   6948445.0   \n",
              "3294   Bulgaria  2020-03-09          2           0   6948445.0   \n",
              "3295   Bulgaria  2020-03-12          3           1   6948445.0   \n",
              "3296   Bulgaria  2020-03-13         16           0   6948445.0   \n",
              "3297   Bulgaria  2020-03-14          8           0   6948445.0   \n",
              "...         ...         ...        ...         ...         ...   \n",
              "16933  Portugal  2020-06-06        377          10  10196707.0   \n",
              "16934  Portugal  2020-06-07        382           9  10196707.0   \n",
              "16935  Portugal  2020-06-08        142           5  10196707.0   \n",
              "16936  Portugal  2020-06-09        392           6  10196707.0   \n",
              "16937  Portugal  2020-06-10        421           7  10196707.0   \n",
              "\n",
              "       aged_65_older_percent  gdp_per_capita  hospital_beds_per_thousand  \\\n",
              "3293                  20.801       18563.307                       7.454   \n",
              "3294                  20.801       18563.307                       7.454   \n",
              "3295                  20.801       18563.307                       7.454   \n",
              "3296                  20.801       18563.307                       7.454   \n",
              "3297                  20.801       18563.307                       7.454   \n",
              "...                      ...             ...                         ...   \n",
              "16933                 21.502       27936.896                       3.390   \n",
              "16934                 21.502       27936.896                       3.390   \n",
              "16935                 21.502       27936.896                       3.390   \n",
              "16936                 21.502       27936.896                       3.390   \n",
              "16937                 21.502       27936.896                       3.390   \n",
              "\n",
              "          death_rate  \n",
              "3293   118158.379321  \n",
              "3294   118158.379321  \n",
              "3295   118158.379321  \n",
              "3296   118158.379321  \n",
              "3297   118158.379321  \n",
              "...              ...  \n",
              "16933   80517.857383  \n",
              "16934   80517.857383  \n",
              "16935   80517.857383  \n",
              "16936   80517.857383  \n",
              "16937   80517.857383  \n",
              "\n",
              "[1010 rows x 9 columns]"
            ],
            "text/html": [
              "\n",
              "  <div id=\"df-fa0fa2aa-74c5-4fb2-b6fa-0c82980a620d\">\n",
              "    <div class=\"colab-df-container\">\n",
              "      <div>\n",
              "<style scoped>\n",
              "    .dataframe tbody tr th:only-of-type {\n",
              "        vertical-align: middle;\n",
              "    }\n",
              "\n",
              "    .dataframe tbody tr th {\n",
              "        vertical-align: top;\n",
              "    }\n",
              "\n",
              "    .dataframe thead th {\n",
              "        text-align: right;\n",
              "    }\n",
              "</style>\n",
              "<table border=\"1\" class=\"dataframe\">\n",
              "  <thead>\n",
              "    <tr style=\"text-align: right;\">\n",
              "      <th></th>\n",
              "      <th>location</th>\n",
              "      <th>date</th>\n",
              "      <th>new_cases</th>\n",
              "      <th>new_deaths</th>\n",
              "      <th>population</th>\n",
              "      <th>aged_65_older_percent</th>\n",
              "      <th>gdp_per_capita</th>\n",
              "      <th>hospital_beds_per_thousand</th>\n",
              "      <th>death_rate</th>\n",
              "    </tr>\n",
              "  </thead>\n",
              "  <tbody>\n",
              "    <tr>\n",
              "      <th>3293</th>\n",
              "      <td>Bulgaria</td>\n",
              "      <td>2020-03-08</td>\n",
              "      <td>2</td>\n",
              "      <td>0</td>\n",
              "      <td>6948445.0</td>\n",
              "      <td>20.801</td>\n",
              "      <td>18563.307</td>\n",
              "      <td>7.454</td>\n",
              "      <td>118158.379321</td>\n",
              "    </tr>\n",
              "    <tr>\n",
              "      <th>3294</th>\n",
              "      <td>Bulgaria</td>\n",
              "      <td>2020-03-09</td>\n",
              "      <td>2</td>\n",
              "      <td>0</td>\n",
              "      <td>6948445.0</td>\n",
              "      <td>20.801</td>\n",
              "      <td>18563.307</td>\n",
              "      <td>7.454</td>\n",
              "      <td>118158.379321</td>\n",
              "    </tr>\n",
              "    <tr>\n",
              "      <th>3295</th>\n",
              "      <td>Bulgaria</td>\n",
              "      <td>2020-03-12</td>\n",
              "      <td>3</td>\n",
              "      <td>1</td>\n",
              "      <td>6948445.0</td>\n",
              "      <td>20.801</td>\n",
              "      <td>18563.307</td>\n",
              "      <td>7.454</td>\n",
              "      <td>118158.379321</td>\n",
              "    </tr>\n",
              "    <tr>\n",
              "      <th>3296</th>\n",
              "      <td>Bulgaria</td>\n",
              "      <td>2020-03-13</td>\n",
              "      <td>16</td>\n",
              "      <td>0</td>\n",
              "      <td>6948445.0</td>\n",
              "      <td>20.801</td>\n",
              "      <td>18563.307</td>\n",
              "      <td>7.454</td>\n",
              "      <td>118158.379321</td>\n",
              "    </tr>\n",
              "    <tr>\n",
              "      <th>3297</th>\n",
              "      <td>Bulgaria</td>\n",
              "      <td>2020-03-14</td>\n",
              "      <td>8</td>\n",
              "      <td>0</td>\n",
              "      <td>6948445.0</td>\n",
              "      <td>20.801</td>\n",
              "      <td>18563.307</td>\n",
              "      <td>7.454</td>\n",
              "      <td>118158.379321</td>\n",
              "    </tr>\n",
              "    <tr>\n",
              "      <th>...</th>\n",
              "      <td>...</td>\n",
              "      <td>...</td>\n",
              "      <td>...</td>\n",
              "      <td>...</td>\n",
              "      <td>...</td>\n",
              "      <td>...</td>\n",
              "      <td>...</td>\n",
              "      <td>...</td>\n",
              "      <td>...</td>\n",
              "    </tr>\n",
              "    <tr>\n",
              "      <th>16933</th>\n",
              "      <td>Portugal</td>\n",
              "      <td>2020-06-06</td>\n",
              "      <td>377</td>\n",
              "      <td>10</td>\n",
              "      <td>10196707.0</td>\n",
              "      <td>21.502</td>\n",
              "      <td>27936.896</td>\n",
              "      <td>3.390</td>\n",
              "      <td>80517.857383</td>\n",
              "    </tr>\n",
              "    <tr>\n",
              "      <th>16934</th>\n",
              "      <td>Portugal</td>\n",
              "      <td>2020-06-07</td>\n",
              "      <td>382</td>\n",
              "      <td>9</td>\n",
              "      <td>10196707.0</td>\n",
              "      <td>21.502</td>\n",
              "      <td>27936.896</td>\n",
              "      <td>3.390</td>\n",
              "      <td>80517.857383</td>\n",
              "    </tr>\n",
              "    <tr>\n",
              "      <th>16935</th>\n",
              "      <td>Portugal</td>\n",
              "      <td>2020-06-08</td>\n",
              "      <td>142</td>\n",
              "      <td>5</td>\n",
              "      <td>10196707.0</td>\n",
              "      <td>21.502</td>\n",
              "      <td>27936.896</td>\n",
              "      <td>3.390</td>\n",
              "      <td>80517.857383</td>\n",
              "    </tr>\n",
              "    <tr>\n",
              "      <th>16936</th>\n",
              "      <td>Portugal</td>\n",
              "      <td>2020-06-09</td>\n",
              "      <td>392</td>\n",
              "      <td>6</td>\n",
              "      <td>10196707.0</td>\n",
              "      <td>21.502</td>\n",
              "      <td>27936.896</td>\n",
              "      <td>3.390</td>\n",
              "      <td>80517.857383</td>\n",
              "    </tr>\n",
              "    <tr>\n",
              "      <th>16937</th>\n",
              "      <td>Portugal</td>\n",
              "      <td>2020-06-10</td>\n",
              "      <td>421</td>\n",
              "      <td>7</td>\n",
              "      <td>10196707.0</td>\n",
              "      <td>21.502</td>\n",
              "      <td>27936.896</td>\n",
              "      <td>3.390</td>\n",
              "      <td>80517.857383</td>\n",
              "    </tr>\n",
              "  </tbody>\n",
              "</table>\n",
              "<p>1010 rows × 9 columns</p>\n",
              "</div>\n",
              "      <button class=\"colab-df-convert\" onclick=\"convertToInteractive('df-fa0fa2aa-74c5-4fb2-b6fa-0c82980a620d')\"\n",
              "              title=\"Convert this dataframe to an interactive table.\"\n",
              "              style=\"display:none;\">\n",
              "        \n",
              "  <svg xmlns=\"http://www.w3.org/2000/svg\" height=\"24px\"viewBox=\"0 0 24 24\"\n",
              "       width=\"24px\">\n",
              "    <path d=\"M0 0h24v24H0V0z\" fill=\"none\"/>\n",
              "    <path d=\"M18.56 5.44l.94 2.06.94-2.06 2.06-.94-2.06-.94-.94-2.06-.94 2.06-2.06.94zm-11 1L8.5 8.5l.94-2.06 2.06-.94-2.06-.94L8.5 2.5l-.94 2.06-2.06.94zm10 10l.94 2.06.94-2.06 2.06-.94-2.06-.94-.94-2.06-.94 2.06-2.06.94z\"/><path d=\"M17.41 7.96l-1.37-1.37c-.4-.4-.92-.59-1.43-.59-.52 0-1.04.2-1.43.59L10.3 9.45l-7.72 7.72c-.78.78-.78 2.05 0 2.83L4 21.41c.39.39.9.59 1.41.59.51 0 1.02-.2 1.41-.59l7.78-7.78 2.81-2.81c.8-.78.8-2.07 0-2.86zM5.41 20L4 18.59l7.72-7.72 1.47 1.35L5.41 20z\"/>\n",
              "  </svg>\n",
              "      </button>\n",
              "      \n",
              "  <style>\n",
              "    .colab-df-container {\n",
              "      display:flex;\n",
              "      flex-wrap:wrap;\n",
              "      gap: 12px;\n",
              "    }\n",
              "\n",
              "    .colab-df-convert {\n",
              "      background-color: #E8F0FE;\n",
              "      border: none;\n",
              "      border-radius: 50%;\n",
              "      cursor: pointer;\n",
              "      display: none;\n",
              "      fill: #1967D2;\n",
              "      height: 32px;\n",
              "      padding: 0 0 0 0;\n",
              "      width: 32px;\n",
              "    }\n",
              "\n",
              "    .colab-df-convert:hover {\n",
              "      background-color: #E2EBFA;\n",
              "      box-shadow: 0px 1px 2px rgba(60, 64, 67, 0.3), 0px 1px 3px 1px rgba(60, 64, 67, 0.15);\n",
              "      fill: #174EA6;\n",
              "    }\n",
              "\n",
              "    [theme=dark] .colab-df-convert {\n",
              "      background-color: #3B4455;\n",
              "      fill: #D2E3FC;\n",
              "    }\n",
              "\n",
              "    [theme=dark] .colab-df-convert:hover {\n",
              "      background-color: #434B5C;\n",
              "      box-shadow: 0px 1px 3px 1px rgba(0, 0, 0, 0.15);\n",
              "      filter: drop-shadow(0px 1px 2px rgba(0, 0, 0, 0.3));\n",
              "      fill: #FFFFFF;\n",
              "    }\n",
              "  </style>\n",
              "\n",
              "      <script>\n",
              "        const buttonEl =\n",
              "          document.querySelector('#df-fa0fa2aa-74c5-4fb2-b6fa-0c82980a620d button.colab-df-convert');\n",
              "        buttonEl.style.display =\n",
              "          google.colab.kernel.accessAllowed ? 'block' : 'none';\n",
              "\n",
              "        async function convertToInteractive(key) {\n",
              "          const element = document.querySelector('#df-fa0fa2aa-74c5-4fb2-b6fa-0c82980a620d');\n",
              "          const dataTable =\n",
              "            await google.colab.kernel.invokeFunction('convertToInteractive',\n",
              "                                                     [key], {});\n",
              "          if (!dataTable) return;\n",
              "\n",
              "          const docLinkHtml = 'Like what you see? Visit the ' +\n",
              "            '<a target=\"_blank\" href=https://colab.research.google.com/notebooks/data_table.ipynb>data table notebook</a>'\n",
              "            + ' to learn more about interactive tables.';\n",
              "          element.innerHTML = '';\n",
              "          dataTable['output_type'] = 'display_data';\n",
              "          await google.colab.output.renderOutput(dataTable, element);\n",
              "          const docLink = document.createElement('div');\n",
              "          docLink.innerHTML = docLinkHtml;\n",
              "          element.appendChild(docLink);\n",
              "        }\n",
              "      </script>\n",
              "    </div>\n",
              "  </div>\n",
              "  "
            ]
          },
          "metadata": {},
          "execution_count": 187
        }
      ]
    },
    {
      "cell_type": "code",
      "source": [
        "len(covid_data['location'].unique())"
      ],
      "metadata": {
        "colab": {
          "base_uri": "https://localhost:8080/"
        },
        "id": "MzKnMHq3oUqp",
        "outputId": "14debfa2-604f-4e9b-83f2-3fbe26a8214d"
      },
      "execution_count": null,
      "outputs": [
        {
          "output_type": "execute_result",
          "data": {
            "text/plain": [
              "212"
            ]
          },
          "metadata": {},
          "execution_count": 188
        }
      ]
    },
    {
      "cell_type": "code",
      "source": [
        "len(df_proper['location'].unique())"
      ],
      "metadata": {
        "colab": {
          "base_uri": "https://localhost:8080/"
        },
        "id": "902vUGtQogqp",
        "outputId": "9066b646-7362-4ced-9bfa-ddef53d96bca"
      },
      "execution_count": null,
      "outputs": [
        {
          "output_type": "execute_result",
          "data": {
            "text/plain": [
              "157"
            ]
          },
          "metadata": {},
          "execution_count": 189
        }
      ]
    },
    {
      "cell_type": "code",
      "source": [
        "len(df_filtered['location'].unique())"
      ],
      "metadata": {
        "colab": {
          "base_uri": "https://localhost:8080/"
        },
        "id": "XeR_ZnPnok1c",
        "outputId": "51f2c0bb-b574-480d-b6c2-9eb3ed7cac96"
      },
      "execution_count": null,
      "outputs": [
        {
          "output_type": "execute_result",
          "data": {
            "text/plain": [
              "7"
            ]
          },
          "metadata": {},
          "execution_count": 190
        }
      ]
    },
    {
      "cell_type": "code",
      "source": [
        "7/157"
      ],
      "metadata": {
        "colab": {
          "base_uri": "https://localhost:8080/"
        },
        "id": "rsQKcaFfoqig",
        "outputId": "753f2878-0551-4725-ee3b-f7952ebf2b6f"
      },
      "execution_count": null,
      "outputs": [
        {
          "output_type": "execute_result",
          "data": {
            "text/plain": [
              "0.044585987261146494"
            ]
          },
          "metadata": {},
          "execution_count": 191
        }
      ]
    },
    {
      "cell_type": "code",
      "source": [
        "7/212"
      ],
      "metadata": {
        "colab": {
          "base_uri": "https://localhost:8080/"
        },
        "id": "qrsx2hSFowwP",
        "outputId": "3f581e5a-ffb0-4e98-bd97-3b6ab5d2df8d"
      },
      "execution_count": null,
      "outputs": [
        {
          "output_type": "execute_result",
          "data": {
            "text/plain": [
              "0.0330188679245283"
            ]
          },
          "metadata": {},
          "execution_count": 192
        }
      ]
    },
    {
      "cell_type": "code",
      "source": [
        "2*0.04*0.03/(0.04+0.03)"
      ],
      "metadata": {
        "colab": {
          "base_uri": "https://localhost:8080/"
        },
        "id": "bmIDX6V7oyPh",
        "outputId": "5b2bfe7c-dd9e-4835-c755-a4757ed103f7"
      },
      "execution_count": null,
      "outputs": [
        {
          "output_type": "execute_result",
          "data": {
            "text/plain": [
              "0.03428571428571428"
            ]
          },
          "metadata": {},
          "execution_count": 193
        }
      ]
    },
    {
      "cell_type": "code",
      "source": [
        "1-0.03"
      ],
      "metadata": {
        "colab": {
          "base_uri": "https://localhost:8080/"
        },
        "id": "gGp7NeXJo5mZ",
        "outputId": "ca349f43-ae1d-476f-e84b-4f6f732dd7f8"
      },
      "execution_count": null,
      "outputs": [
        {
          "output_type": "execute_result",
          "data": {
            "text/plain": [
              "0.97"
            ]
          },
          "metadata": {},
          "execution_count": 194
        }
      ]
    },
    {
      "cell_type": "code",
      "source": [
        "condition1 = df_proper['gdp_per_capita'] > 10000\n",
        "condition2 = df_proper['hospital_beds_per_thousand'] >= 5\n",
        "\n",
        "# Calculate the proportion of rows that meet the conditions\n",
        "probability = len(df_proper[condition1 & condition2]) / len(df_proper)"
      ],
      "metadata": {
        "id": "c9ZbyrLXo-Pb"
      },
      "execution_count": null,
      "outputs": []
    },
    {
      "cell_type": "code",
      "source": [
        "probability"
      ],
      "metadata": {
        "colab": {
          "base_uri": "https://localhost:8080/"
        },
        "id": "V5umTUAYpyP_",
        "outputId": "efbfa086-992e-42ac-e43a-f88518021f97"
      },
      "execution_count": null,
      "outputs": [
        {
          "output_type": "execute_result",
          "data": {
            "text/plain": [
              "0.16352029681361852"
            ]
          },
          "metadata": {},
          "execution_count": 200
        }
      ]
    },
    {
      "cell_type": "code",
      "source": [
        "df_hos = df_proper[condition2]"
      ],
      "metadata": {
        "id": "Vl4-8PmIp3zS"
      },
      "execution_count": null,
      "outputs": []
    },
    {
      "cell_type": "code",
      "source": [
        "df_capita = df_hos[df_hos['gdp_per_capita']>10000]\n",
        "df_capita"
      ],
      "metadata": {
        "colab": {
          "base_uri": "https://localhost:8080/",
          "height": 424
        },
        "id": "UhqdkafLqP-w",
        "outputId": "6fabbbcc-cd06-403d-fe17-61708e70fdc2"
      },
      "execution_count": null,
      "outputs": [
        {
          "output_type": "execute_result",
          "data": {
            "text/plain": [
              "          location        date  new_cases  new_deaths  population  \\\n",
              "734      Argentina  2020-03-04          1           0  45195777.0   \n",
              "735      Argentina  2020-03-06          1           0  45195777.0   \n",
              "736      Argentina  2020-03-07          6           0  45195777.0   \n",
              "737      Argentina  2020-03-08          1           1  45195777.0   \n",
              "738      Argentina  2020-03-09          3           0  45195777.0   \n",
              "...            ...         ...        ...         ...         ...   \n",
              "19317  South Korea  2020-06-06         51           0  51269183.0   \n",
              "19318  South Korea  2020-06-07         57           0  51269183.0   \n",
              "19319  South Korea  2020-06-08         38           0  51269183.0   \n",
              "19320  South Korea  2020-06-09         38           1  51269183.0   \n",
              "19321  South Korea  2020-06-10         50           2  51269183.0   \n",
              "\n",
              "       aged_65_older_percent  gdp_per_capita  hospital_beds_per_thousand  \\\n",
              "734                   11.198       18933.907                        5.00   \n",
              "735                   11.198       18933.907                        5.00   \n",
              "736                   11.198       18933.907                        5.00   \n",
              "737                   11.198       18933.907                        5.00   \n",
              "738                   11.198       18933.907                        5.00   \n",
              "...                      ...             ...                         ...   \n",
              "19317                 13.914       35938.374                       12.27   \n",
              "19318                 13.914       35938.374                       12.27   \n",
              "19319                 13.914       35938.374                       12.27   \n",
              "19320                 13.914       35938.374                       12.27   \n",
              "19321                 13.914       35938.374                       12.27   \n",
              "\n",
              "         death_rate  \n",
              "734    18165.790136  \n",
              "735    18165.790136  \n",
              "736    18165.790136  \n",
              "737    18165.790136  \n",
              "738    18165.790136  \n",
              "...             ...  \n",
              "19317  16013.849879  \n",
              "19318  16013.849879  \n",
              "19319  16013.849879  \n",
              "19320  16013.849879  \n",
              "19321  16013.849879  \n",
              "\n",
              "[2997 rows x 9 columns]"
            ],
            "text/html": [
              "\n",
              "  <div id=\"df-b440ed03-147d-4f5e-872c-38f40dba1414\">\n",
              "    <div class=\"colab-df-container\">\n",
              "      <div>\n",
              "<style scoped>\n",
              "    .dataframe tbody tr th:only-of-type {\n",
              "        vertical-align: middle;\n",
              "    }\n",
              "\n",
              "    .dataframe tbody tr th {\n",
              "        vertical-align: top;\n",
              "    }\n",
              "\n",
              "    .dataframe thead th {\n",
              "        text-align: right;\n",
              "    }\n",
              "</style>\n",
              "<table border=\"1\" class=\"dataframe\">\n",
              "  <thead>\n",
              "    <tr style=\"text-align: right;\">\n",
              "      <th></th>\n",
              "      <th>location</th>\n",
              "      <th>date</th>\n",
              "      <th>new_cases</th>\n",
              "      <th>new_deaths</th>\n",
              "      <th>population</th>\n",
              "      <th>aged_65_older_percent</th>\n",
              "      <th>gdp_per_capita</th>\n",
              "      <th>hospital_beds_per_thousand</th>\n",
              "      <th>death_rate</th>\n",
              "    </tr>\n",
              "  </thead>\n",
              "  <tbody>\n",
              "    <tr>\n",
              "      <th>734</th>\n",
              "      <td>Argentina</td>\n",
              "      <td>2020-03-04</td>\n",
              "      <td>1</td>\n",
              "      <td>0</td>\n",
              "      <td>45195777.0</td>\n",
              "      <td>11.198</td>\n",
              "      <td>18933.907</td>\n",
              "      <td>5.00</td>\n",
              "      <td>18165.790136</td>\n",
              "    </tr>\n",
              "    <tr>\n",
              "      <th>735</th>\n",
              "      <td>Argentina</td>\n",
              "      <td>2020-03-06</td>\n",
              "      <td>1</td>\n",
              "      <td>0</td>\n",
              "      <td>45195777.0</td>\n",
              "      <td>11.198</td>\n",
              "      <td>18933.907</td>\n",
              "      <td>5.00</td>\n",
              "      <td>18165.790136</td>\n",
              "    </tr>\n",
              "    <tr>\n",
              "      <th>736</th>\n",
              "      <td>Argentina</td>\n",
              "      <td>2020-03-07</td>\n",
              "      <td>6</td>\n",
              "      <td>0</td>\n",
              "      <td>45195777.0</td>\n",
              "      <td>11.198</td>\n",
              "      <td>18933.907</td>\n",
              "      <td>5.00</td>\n",
              "      <td>18165.790136</td>\n",
              "    </tr>\n",
              "    <tr>\n",
              "      <th>737</th>\n",
              "      <td>Argentina</td>\n",
              "      <td>2020-03-08</td>\n",
              "      <td>1</td>\n",
              "      <td>1</td>\n",
              "      <td>45195777.0</td>\n",
              "      <td>11.198</td>\n",
              "      <td>18933.907</td>\n",
              "      <td>5.00</td>\n",
              "      <td>18165.790136</td>\n",
              "    </tr>\n",
              "    <tr>\n",
              "      <th>738</th>\n",
              "      <td>Argentina</td>\n",
              "      <td>2020-03-09</td>\n",
              "      <td>3</td>\n",
              "      <td>0</td>\n",
              "      <td>45195777.0</td>\n",
              "      <td>11.198</td>\n",
              "      <td>18933.907</td>\n",
              "      <td>5.00</td>\n",
              "      <td>18165.790136</td>\n",
              "    </tr>\n",
              "    <tr>\n",
              "      <th>...</th>\n",
              "      <td>...</td>\n",
              "      <td>...</td>\n",
              "      <td>...</td>\n",
              "      <td>...</td>\n",
              "      <td>...</td>\n",
              "      <td>...</td>\n",
              "      <td>...</td>\n",
              "      <td>...</td>\n",
              "      <td>...</td>\n",
              "    </tr>\n",
              "    <tr>\n",
              "      <th>19317</th>\n",
              "      <td>South Korea</td>\n",
              "      <td>2020-06-06</td>\n",
              "      <td>51</td>\n",
              "      <td>0</td>\n",
              "      <td>51269183.0</td>\n",
              "      <td>13.914</td>\n",
              "      <td>35938.374</td>\n",
              "      <td>12.27</td>\n",
              "      <td>16013.849879</td>\n",
              "    </tr>\n",
              "    <tr>\n",
              "      <th>19318</th>\n",
              "      <td>South Korea</td>\n",
              "      <td>2020-06-07</td>\n",
              "      <td>57</td>\n",
              "      <td>0</td>\n",
              "      <td>51269183.0</td>\n",
              "      <td>13.914</td>\n",
              "      <td>35938.374</td>\n",
              "      <td>12.27</td>\n",
              "      <td>16013.849879</td>\n",
              "    </tr>\n",
              "    <tr>\n",
              "      <th>19319</th>\n",
              "      <td>South Korea</td>\n",
              "      <td>2020-06-08</td>\n",
              "      <td>38</td>\n",
              "      <td>0</td>\n",
              "      <td>51269183.0</td>\n",
              "      <td>13.914</td>\n",
              "      <td>35938.374</td>\n",
              "      <td>12.27</td>\n",
              "      <td>16013.849879</td>\n",
              "    </tr>\n",
              "    <tr>\n",
              "      <th>19320</th>\n",
              "      <td>South Korea</td>\n",
              "      <td>2020-06-09</td>\n",
              "      <td>38</td>\n",
              "      <td>1</td>\n",
              "      <td>51269183.0</td>\n",
              "      <td>13.914</td>\n",
              "      <td>35938.374</td>\n",
              "      <td>12.27</td>\n",
              "      <td>16013.849879</td>\n",
              "    </tr>\n",
              "    <tr>\n",
              "      <th>19321</th>\n",
              "      <td>South Korea</td>\n",
              "      <td>2020-06-10</td>\n",
              "      <td>50</td>\n",
              "      <td>2</td>\n",
              "      <td>51269183.0</td>\n",
              "      <td>13.914</td>\n",
              "      <td>35938.374</td>\n",
              "      <td>12.27</td>\n",
              "      <td>16013.849879</td>\n",
              "    </tr>\n",
              "  </tbody>\n",
              "</table>\n",
              "<p>2997 rows × 9 columns</p>\n",
              "</div>\n",
              "      <button class=\"colab-df-convert\" onclick=\"convertToInteractive('df-b440ed03-147d-4f5e-872c-38f40dba1414')\"\n",
              "              title=\"Convert this dataframe to an interactive table.\"\n",
              "              style=\"display:none;\">\n",
              "        \n",
              "  <svg xmlns=\"http://www.w3.org/2000/svg\" height=\"24px\"viewBox=\"0 0 24 24\"\n",
              "       width=\"24px\">\n",
              "    <path d=\"M0 0h24v24H0V0z\" fill=\"none\"/>\n",
              "    <path d=\"M18.56 5.44l.94 2.06.94-2.06 2.06-.94-2.06-.94-.94-2.06-.94 2.06-2.06.94zm-11 1L8.5 8.5l.94-2.06 2.06-.94-2.06-.94L8.5 2.5l-.94 2.06-2.06.94zm10 10l.94 2.06.94-2.06 2.06-.94-2.06-.94-.94-2.06-.94 2.06-2.06.94z\"/><path d=\"M17.41 7.96l-1.37-1.37c-.4-.4-.92-.59-1.43-.59-.52 0-1.04.2-1.43.59L10.3 9.45l-7.72 7.72c-.78.78-.78 2.05 0 2.83L4 21.41c.39.39.9.59 1.41.59.51 0 1.02-.2 1.41-.59l7.78-7.78 2.81-2.81c.8-.78.8-2.07 0-2.86zM5.41 20L4 18.59l7.72-7.72 1.47 1.35L5.41 20z\"/>\n",
              "  </svg>\n",
              "      </button>\n",
              "      \n",
              "  <style>\n",
              "    .colab-df-container {\n",
              "      display:flex;\n",
              "      flex-wrap:wrap;\n",
              "      gap: 12px;\n",
              "    }\n",
              "\n",
              "    .colab-df-convert {\n",
              "      background-color: #E8F0FE;\n",
              "      border: none;\n",
              "      border-radius: 50%;\n",
              "      cursor: pointer;\n",
              "      display: none;\n",
              "      fill: #1967D2;\n",
              "      height: 32px;\n",
              "      padding: 0 0 0 0;\n",
              "      width: 32px;\n",
              "    }\n",
              "\n",
              "    .colab-df-convert:hover {\n",
              "      background-color: #E2EBFA;\n",
              "      box-shadow: 0px 1px 2px rgba(60, 64, 67, 0.3), 0px 1px 3px 1px rgba(60, 64, 67, 0.15);\n",
              "      fill: #174EA6;\n",
              "    }\n",
              "\n",
              "    [theme=dark] .colab-df-convert {\n",
              "      background-color: #3B4455;\n",
              "      fill: #D2E3FC;\n",
              "    }\n",
              "\n",
              "    [theme=dark] .colab-df-convert:hover {\n",
              "      background-color: #434B5C;\n",
              "      box-shadow: 0px 1px 3px 1px rgba(0, 0, 0, 0.15);\n",
              "      filter: drop-shadow(0px 1px 2px rgba(0, 0, 0, 0.3));\n",
              "      fill: #FFFFFF;\n",
              "    }\n",
              "  </style>\n",
              "\n",
              "      <script>\n",
              "        const buttonEl =\n",
              "          document.querySelector('#df-b440ed03-147d-4f5e-872c-38f40dba1414 button.colab-df-convert');\n",
              "        buttonEl.style.display =\n",
              "          google.colab.kernel.accessAllowed ? 'block' : 'none';\n",
              "\n",
              "        async function convertToInteractive(key) {\n",
              "          const element = document.querySelector('#df-b440ed03-147d-4f5e-872c-38f40dba1414');\n",
              "          const dataTable =\n",
              "            await google.colab.kernel.invokeFunction('convertToInteractive',\n",
              "                                                     [key], {});\n",
              "          if (!dataTable) return;\n",
              "\n",
              "          const docLinkHtml = 'Like what you see? Visit the ' +\n",
              "            '<a target=\"_blank\" href=https://colab.research.google.com/notebooks/data_table.ipynb>data table notebook</a>'\n",
              "            + ' to learn more about interactive tables.';\n",
              "          element.innerHTML = '';\n",
              "          dataTable['output_type'] = 'display_data';\n",
              "          await google.colab.output.renderOutput(dataTable, element);\n",
              "          const docLink = document.createElement('div');\n",
              "          docLink.innerHTML = docLinkHtml;\n",
              "          element.appendChild(docLink);\n",
              "        }\n",
              "      </script>\n",
              "    </div>\n",
              "  </div>\n",
              "  "
            ]
          },
          "metadata": {},
          "execution_count": 203
        }
      ]
    },
    {
      "cell_type": "code",
      "source": [
        "len(df_capita['location'].unique())"
      ],
      "metadata": {
        "colab": {
          "base_uri": "https://localhost:8080/"
        },
        "id": "bYmddl_zqeHl",
        "outputId": "eed3c70f-0909-4d16-a391-16813284fbfd"
      },
      "execution_count": null,
      "outputs": [
        {
          "output_type": "execute_result",
          "data": {
            "text/plain": [
              "23"
            ]
          },
          "metadata": {},
          "execution_count": 204
        }
      ]
    },
    {
      "cell_type": "code",
      "source": [
        "len(df_hos['location'].unique())"
      ],
      "metadata": {
        "colab": {
          "base_uri": "https://localhost:8080/"
        },
        "id": "CwWgCracqplh",
        "outputId": "21fb5caf-edb9-4dd4-f608-2d9ab3375915"
      },
      "execution_count": null,
      "outputs": [
        {
          "output_type": "execute_result",
          "data": {
            "text/plain": [
              "26"
            ]
          },
          "metadata": {},
          "execution_count": 205
        }
      ]
    },
    {
      "cell_type": "code",
      "source": [
        "23/26"
      ],
      "metadata": {
        "colab": {
          "base_uri": "https://localhost:8080/"
        },
        "id": "hHeTHo8uqvV_",
        "outputId": "b033d0a6-7dbd-48e1-8e1d-6884d1279c5e"
      },
      "execution_count": null,
      "outputs": [
        {
          "output_type": "execute_result",
          "data": {
            "text/plain": [
              "0.8846153846153846"
            ]
          },
          "metadata": {},
          "execution_count": 206
        }
      ]
    },
    {
      "cell_type": "code",
      "source": [],
      "metadata": {
        "id": "7C1Okd29qxNy"
      },
      "execution_count": null,
      "outputs": []
    }
  ]
}