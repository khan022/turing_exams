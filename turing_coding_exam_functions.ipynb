{
  "nbformat": 4,
  "nbformat_minor": 0,
  "metadata": {
    "colab": {
      "provenance": [],
      "authorship_tag": "ABX9TyMMGeQynzPaic1PPQcFdgbq",
      "include_colab_link": true
    },
    "kernelspec": {
      "name": "python3",
      "display_name": "Python 3"
    },
    "language_info": {
      "name": "python"
    }
  },
  "cells": [
    {
      "cell_type": "markdown",
      "metadata": {
        "id": "view-in-github",
        "colab_type": "text"
      },
      "source": [
        "<a href=\"https://colab.research.google.com/github/khan022/turing_exams/blob/main/turing_coding_exam_functions.ipynb\" target=\"_parent\"><img src=\"https://colab.research.google.com/assets/colab-badge.svg\" alt=\"Open In Colab\"/></a>"
      ]
    },
    {
      "cell_type": "code",
      "execution_count": 1,
      "metadata": {
        "id": "BiVpJbJjTLQz"
      },
      "outputs": [],
      "source": [
        "from typing import List"
      ]
    },
    {
      "cell_type": "code",
      "source": [
        "def sort_string(s: str, k: List[int]) -> str:\n",
        "    sorted_string = [''] * len(s)\n",
        "    for i in range(len(s)):\n",
        "        sorted_string[k[i]] = s[i]\n",
        "    return ''.join(sorted_string)"
      ],
      "metadata": {
        "id": "_jetj45hTR3Y"
      },
      "execution_count": 2,
      "outputs": []
    },
    {
      "cell_type": "code",
      "source": [
        "s = \"talentcloudturing\"\n",
        "line = [6, 7, 8, 9, 10, 11, 12, 13, 14, 15, 16, 0, 1, 2, 3, 4, 5]\n",
        "k = line\n",
        "k = [int(x) for x in k]\n",
        "output = sort_string(s, k)\n",
        "print(output)"
      ],
      "metadata": {
        "colab": {
          "base_uri": "https://localhost:8080/"
        },
        "id": "WtnSBDBJTWzN",
        "outputId": "e459c087-a589-4af1-fa25-b08a1c8b5aa3"
      },
      "execution_count": 3,
      "outputs": [
        {
          "output_type": "stream",
          "name": "stdout",
          "text": [
            "turingtalentcloud\n"
          ]
        }
      ]
    },
    {
      "cell_type": "code",
      "source": [
        "def min_distance(s: str, t: str) -> list[int]:\n",
        "    n = len(s)\n",
        "    d = [n] * n\n",
        "    prev = float('-inf')\n",
        "    for i in range(n):\n",
        "        if s[i] == t:\n",
        "            prev = i\n",
        "        d[i] = min(d[i], abs(i - prev))\n",
        "    prev = float('inf')\n",
        "    for i in range(n - 1, -1, -1):\n",
        "        if s[i] == t:\n",
        "            prev = i\n",
        "        d[i] = min(d[i], abs(i - prev))\n",
        "    return d"
      ],
      "metadata": {
        "id": "Z1TQmkxeT48C"
      },
      "execution_count": 4,
      "outputs": []
    },
    {
      "cell_type": "code",
      "source": [
        "s = 'mkteneetkybe' \n",
        "c = 'e'\n",
        "output = min_distance(s, c)\n",
        "\n",
        "if output == []:\n",
        "  print('[]')\n",
        "else:\n",
        "  print('[%s]'%','.join(map(str, output)))"
      ],
      "metadata": {
        "colab": {
          "base_uri": "https://localhost:8080/"
        },
        "id": "g7PE-8rDVH8i",
        "outputId": "7aa349ad-ade3-4498-c0d6-27048314295d"
      },
      "execution_count": 5,
      "outputs": [
        {
          "output_type": "stream",
          "name": "stdout",
          "text": [
            "[3,2,1,0,1,0,0,1,2,2,1,0]\n"
          ]
        }
      ]
    },
    {
      "cell_type": "code",
      "source": [],
      "metadata": {
        "id": "R16Wm9y9VfbM"
      },
      "execution_count": null,
      "outputs": []
    }
  ]
}